{
 "cells": [
  {
   "cell_type": "code",
   "execution_count": 1,
   "metadata": {},
   "outputs": [],
   "source": [
    "import pandas as pd\n",
    "import nltk\n",
    "from nltk.corpus import stopwords\n",
    "from sklearn.feature_extraction.text import TfidfVectorizer\n",
    "from sklearn.decomposition import TruncatedSVD"
   ]
  },
  {
   "cell_type": "code",
   "execution_count": 20,
   "metadata": {},
   "outputs": [],
   "source": [
    "df = pd.read_csv('dataset/education.csv',index_col=0)"
   ]
  },
  {
   "cell_type": "code",
   "execution_count": 21,
   "metadata": {},
   "outputs": [
    {
     "data": {
      "text/plain": [
       "500"
      ]
     },
     "execution_count": 21,
     "metadata": {},
     "output_type": "execute_result"
    }
   ],
   "source": [
    "len(df)"
   ]
  },
  {
   "cell_type": "code",
   "execution_count": 22,
   "metadata": {},
   "outputs": [],
   "source": [
    "df=df[df.score<=4]"
   ]
  },
  {
   "cell_type": "code",
   "execution_count": 23,
   "metadata": {},
   "outputs": [
    {
     "data": {
      "text/plain": [
       "111"
      ]
     },
     "execution_count": 23,
     "metadata": {},
     "output_type": "execute_result"
    }
   ],
   "source": [
    "len(df)"
   ]
  },
  {
   "cell_type": "code",
   "execution_count": 24,
   "metadata": {},
   "outputs": [],
   "source": [
    "stopset = set(stopwords.words('english'))\n",
    "stopset.update(['/n' ])"
   ]
  },
  {
   "cell_type": "code",
   "execution_count": 25,
   "metadata": {},
   "outputs": [],
   "source": [
    "docs=df['description']"
   ]
  },
  {
   "cell_type": "code",
   "execution_count": 26,
   "metadata": {},
   "outputs": [
    {
     "data": {
      "text/plain": [
       "\"ABC PreSchool includes three fun, educational activities for toddlers and kids!  Whether your child is in kindergarden, or going to attend preschool, this is a great, free learning app for your children.\\nCOLORING\\nChoose from over 50 images to color. Let your kids doodle their fingers away and show their artistic skills. Choose from a variety of crayons to color.\\nPLAY\\nTest your memory by playing the matching game. Check out our attractive cute animals as the matching tiles.\\nLEARN\\nFinally, let your kids learn a bit. We've made it easy for your kids to familiarize themselves with the ABC's (english alphabet) and numbers by tracing the dashed lines. There are audio for each letter and number so your kids can get familiarized with the sounds.\""
      ]
     },
     "execution_count": 26,
     "metadata": {},
     "output_type": "execute_result"
    }
   ],
   "source": [
    "docs[0]"
   ]
  },
  {
   "cell_type": "code",
   "execution_count": 27,
   "metadata": {},
   "outputs": [],
   "source": [
    "vectorizer = TfidfVectorizer(stop_words=stopset,\n",
    "                                 use_idf=True, ngram_range=(1, 3))\n",
    "X = vectorizer.fit_transform(docs)"
   ]
  },
  {
   "cell_type": "code",
   "execution_count": 28,
   "metadata": {},
   "outputs": [
    {
     "data": {
      "text/plain": [
       "111"
      ]
     },
     "execution_count": 28,
     "metadata": {},
     "output_type": "execute_result"
    }
   ],
   "source": [
    "len(docs)"
   ]
  },
  {
   "cell_type": "code",
   "execution_count": 29,
   "metadata": {},
   "outputs": [
    {
     "data": {
      "text/plain": [
       "<1x36263 sparse matrix of type '<class 'numpy.float64'>'\n",
       "\twith 204 stored elements in Compressed Sparse Row format>"
      ]
     },
     "execution_count": 29,
     "metadata": {},
     "output_type": "execute_result"
    }
   ],
   "source": [
    "X[0]"
   ]
  },
  {
   "cell_type": "code",
   "execution_count": 30,
   "metadata": {},
   "outputs": [
    {
     "data": {
      "text/plain": [
       "(111, 36263)"
      ]
     },
     "execution_count": 30,
     "metadata": {},
     "output_type": "execute_result"
    }
   ],
   "source": [
    "X.shape"
   ]
  },
  {
   "cell_type": "code",
   "execution_count": 31,
   "metadata": {},
   "outputs": [
    {
     "data": {
      "text/plain": [
       "TruncatedSVD(algorithm='randomized', n_components=27, n_iter=100,\n",
       "       random_state=None, tol=0.0)"
      ]
     },
     "execution_count": 31,
     "metadata": {},
     "output_type": "execute_result"
    }
   ],
   "source": [
    "lsa = TruncatedSVD(n_components=27, n_iter=100)\n",
    "lsa.fit(X)"
   ]
  },
  {
   "cell_type": "code",
   "execution_count": 32,
   "metadata": {},
   "outputs": [
    {
     "name": "stdout",
     "output_type": "stream",
     "text": [
      "Concept 0:\n",
      "app\n",
      "kids\n",
      "bus\n",
      "brainpop\n",
      "students\n",
      "com\n",
      "translation\n",
      "use\n",
      "learning\n",
      "words\n",
      " \n",
      "Concept 1:\n",
      "tiles\n",
      "lesson\n",
      "words\n",
      "letter\n",
      "letter tiles\n",
      "reading spelling\n",
      "phonograms\n",
      "spelling\n",
      "kids\n",
      "sounds\n",
      " \n",
      "Concept 2:\n",
      "floor\n",
      "general\n",
      "kids\n",
      "department\n",
      "baby care\n",
      "outdoor\n",
      "play\n",
      "laundry\n",
      "lab\n",
      "baby\n",
      " \n",
      "Concept 3:\n",
      "bus\n",
      "comes bus\n",
      "comes\n",
      "floor\n",
      "child bus\n",
      "child\n",
      "school\n",
      "district\n",
      "stop\n",
      "general\n",
      " \n",
      "Concept 4:\n",
      "translation\n",
      "language\n",
      "language translator\n",
      "translator\n",
      "language translation\n",
      "translate\n",
      "sentences\n",
      "phrases\n",
      "words\n",
      "word\n",
      " \n",
      "Concept 5:\n",
      "hat\n",
      "top hat\n",
      "top\n",
      "homework\n",
      "affordable\n",
      "textbooks\n",
      "instructors\n",
      "class\n",
      "course\n",
      "instructor\n",
      " \n",
      "Concept 6:\n",
      "kids\n",
      "let kids\n",
      "translation\n",
      "matching\n",
      "preschool\n",
      "abc\n",
      "color\n",
      "let\n",
      "hat\n",
      "top hat\n",
      " \n",
      "Concept 7:\n",
      "que\n",
      "de\n",
      "con\n",
      "la\n",
      "te\n",
      "en\n",
      "fotos\n",
      "para\n",
      "recuperar\n",
      "una\n",
      " \n",
      "Concept 8:\n",
      "exam\n",
      "fire\n",
      "exam prep\n",
      "prep\n",
      "study\n",
      "exam prep plus\n",
      "prep plus\n",
      "exams\n",
      "addition\n",
      "questions\n",
      " \n",
      "Concept 9:\n",
      "games\n",
      "dr\n",
      "dr panda\n",
      "panda\n",
      "stories\n",
      "com\n",
      "town\n",
      "books\n",
      "app\n",
      "us\n",
      " \n",
      "Concept 10:\n",
      "dr\n",
      "dr panda\n",
      "panda\n",
      "town\n",
      "drpanda\n",
      "drpanda com\n",
      "games\n",
      "dr panda town\n",
      "panda town\n",
      "bus\n",
      " \n",
      "Concept 11:\n",
      "endless\n",
      "spanish\n",
      "words\n",
      "spelling\n",
      "speakers\n",
      "word\n",
      "english\n",
      "wordplay\n",
      "originator\n",
      "reinforce\n",
      " \n",
      "Concept 12:\n",
      "math\n",
      "photo\n",
      "calculator\n",
      "automath\n",
      "math problems\n",
      "problems\n",
      "solve\n",
      "calculate\n",
      "app solve\n",
      "graphing\n",
      " \n",
      "Concept 13:\n",
      "books\n",
      "book\n",
      "level\n",
      "reading\n",
      "isbn\n",
      "daniel\n",
      "educators\n",
      "book lists\n",
      "level info\n",
      "library\n",
      " \n",
      "Concept 14:\n",
      "books\n",
      "book\n",
      "level\n",
      "photo\n",
      "isbn\n",
      "reading\n",
      "book lists\n",
      "level info\n",
      "educators\n",
      "endless\n",
      " \n",
      "Concept 15:\n",
      "questions\n",
      "exam\n",
      "asvab\n",
      "cna\n",
      "practice\n",
      "united states\n",
      "test\n",
      "united\n",
      "students\n",
      "states\n",
      " \n",
      "Concept 16:\n",
      "asl\n",
      "signs\n",
      "books\n",
      "american sign\n",
      "american sign language\n",
      "sign language\n",
      "us\n",
      "language\n",
      "sign\n",
      "rate us\n",
      " \n",
      "Concept 17:\n",
      "asl\n",
      "signs\n",
      "students\n",
      "student\n",
      "record\n",
      "afternoon\n",
      "money\n",
      "american sign\n",
      "american sign language\n",
      "sign language\n",
      " \n",
      "Concept 18:\n",
      "piano\n",
      "record\n",
      "reading\n",
      "smartbook\n",
      "running\n",
      "student\n",
      "running record\n",
      "tinytap\n",
      "speakers\n",
      "speakers english\n",
      " \n",
      "Concept 19:\n",
      "fairs\n",
      "world\n",
      "fair\n",
      "fairs app\n",
      "see\n",
      "said\n",
      "money\n",
      "credit\n",
      "reality\n",
      "budget\n",
      " \n",
      "Concept 20:\n",
      "memory\n",
      "brain\n",
      "verses\n",
      "reading\n",
      "smartbook\n",
      "text\n",
      "brainwell\n",
      "kanji\n",
      "study\n",
      "bible\n",
      " \n",
      "Concept 21:\n",
      "photo\n",
      "plant\n",
      "stories\n",
      "smartbook\n",
      "face\n",
      "using\n",
      "livingtree\n",
      "mhe\n",
      "mhe connect\n",
      "material\n",
      " \n",
      "Concept 22:\n",
      "brain\n",
      "memory\n",
      "dog\n",
      "brainwell\n",
      "verses\n",
      "training\n",
      "trainer\n",
      "games\n",
      "train\n",
      "bible\n",
      " \n",
      "Concept 23:\n",
      "irlen\n",
      "tools\n",
      "speakers\n",
      "speakers english\n",
      "english\n",
      "stories\n",
      "color\n",
      "student\n",
      "improve\n",
      "piano\n",
      " \n",
      "Concept 24:\n",
      "plant\n",
      "photo\n",
      "piano\n",
      "identify\n",
      "plants\n",
      "attendance\n",
      "dog\n",
      "brain\n",
      "3d\n",
      "pyware\n",
      " \n",
      "Concept 25:\n",
      "animals\n",
      "kanji\n",
      "animal\n",
      "asl\n",
      "cards\n",
      "afternoon\n",
      "plant\n",
      "picture\n",
      "signs\n",
      "animal sounds\n",
      " \n",
      "Concept 26:\n",
      "record\n",
      "running\n",
      "moodle\n",
      "running record\n",
      "stories\n",
      "audio\n",
      "offline\n",
      "scary\n",
      "accuracy percentage\n",
      "accuracy percentage error\n",
      " \n"
     ]
    }
   ],
   "source": [
    "terms = vectorizer.get_feature_names()\n",
    "for i, comp in enumerate(lsa.components_): \n",
    "    termsInComp = zip (terms,comp)\n",
    "    sortedTerms =  sorted(termsInComp, key=lambda x: x[1], reverse=True) [:10]\n",
    "    print (\"Concept %d:\" % i)\n",
    "    for term in sortedTerms:\n",
    "        print (term[0])\n",
    "    print (\" \")"
   ]
  },
  {
   "cell_type": "code",
   "execution_count": null,
   "metadata": {},
   "outputs": [],
   "source": []
  }
 ],
 "metadata": {
  "kernelspec": {
   "display_name": "Python 3",
   "language": "python",
   "name": "python3"
  },
  "language_info": {
   "codemirror_mode": {
    "name": "ipython",
    "version": 3
   },
   "file_extension": ".py",
   "mimetype": "text/x-python",
   "name": "python",
   "nbconvert_exporter": "python",
   "pygments_lexer": "ipython3",
   "version": "3.6.5"
  }
 },
 "nbformat": 4,
 "nbformat_minor": 2
}
