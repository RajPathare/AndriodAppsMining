{
 "cells": [
  {
   "cell_type": "code",
   "execution_count": 1,
   "metadata": {},
   "outputs": [],
   "source": [
    "import pandas as pd\n",
    "import nltk\n",
    "from nltk.corpus import stopwords\n",
    "from sklearn.feature_extraction.text import TfidfVectorizer\n",
    "from sklearn.decomposition import TruncatedSVD"
   ]
  },
  {
   "cell_type": "code",
   "execution_count": 30,
   "metadata": {},
   "outputs": [],
   "source": [
    "df = pd.read_csv('dataset/education.csv',index_col=0)"
   ]
  },
  {
   "cell_type": "code",
   "execution_count": 31,
   "metadata": {},
   "outputs": [
    {
     "data": {
      "text/plain": [
       "500"
      ]
     },
     "execution_count": 31,
     "metadata": {},
     "output_type": "execute_result"
    }
   ],
   "source": [
    "len(df)"
   ]
  },
  {
   "cell_type": "code",
   "execution_count": 32,
   "metadata": {},
   "outputs": [],
   "source": [
    "df=df[df.score>=4.5]"
   ]
  },
  {
   "cell_type": "code",
   "execution_count": 33,
   "metadata": {},
   "outputs": [
    {
     "data": {
      "text/plain": [
       "213"
      ]
     },
     "execution_count": 33,
     "metadata": {},
     "output_type": "execute_result"
    }
   ],
   "source": [
    "len(df)"
   ]
  },
  {
   "cell_type": "code",
   "execution_count": 34,
   "metadata": {},
   "outputs": [],
   "source": [
    "stopset = set(stopwords.words('english'))\n",
    "stopset.update(['/n' ])"
   ]
  },
  {
   "cell_type": "code",
   "execution_count": 35,
   "metadata": {},
   "outputs": [],
   "source": [
    "docs=df['description']"
   ]
  },
  {
   "cell_type": "code",
   "execution_count": 36,
   "metadata": {},
   "outputs": [
    {
     "data": {
      "text/plain": [
       "'Khan Academy Kids is a free, fun, educational program with thousands of activities and books that will inspire a lifetime of learning and discovery for young children.\\nThe curriculum includes reading, language, writing, math, social-emotional development, problem-solving skills, and motor development. Open-ended activities and games like drawing, storytelling, and coloring encourage creativity and self-expression.  And colorful main characters will guide children through the learning experience, keeping them engaged on their educational journey.\\nKhan Academy Kids includes thousands of interactive activities for toddlers, preschoolers, and kindergarteners that are aligned with the Head Start Early Learning Outcomes Framework and Common Core Standards.\\nLet the joyful learning begin!\\nROBUST CURRICULUM\\n• Reading and literacy—phonics, the alphabet, spelling, and early writing.\\n• Language—vocabulary, opposites, prepositions, and verbs.\\n• Math—counting, numbers, addition, subtraction, shapes, and measuring.\\n• Executive function and logic—focus, memory, and problem-solving.\\nPERSONALIZED LEARNING  EXPERIENCE\\n• Adaptive learning path allows each child to learn at their own pace.\\n• Learn independently in the Library—a collection of activities, books, and videos.\\n• Kids can read books on their own or follow along with recorded audio narration.\\nJOYFUL LEARNING\\n• Five whimsical characters encourage children to think and learn.\\n• Highly interactive games and activities.\\n• Kids can collect fun bugs, hats, and toys as they learn.\\nEMOTIONAL AND PHYSICAL DEVELOPMENT\\n• Social-emotional—relationships, self-control, and empathy.\\n• Motor and physical development—gross and fine motor skills, health and nutrition.\\n• Creative expression—drawing, storytelling, and coloring.\\nCREATED BY A TEAM OF EXPERTS\\n• Developed in collaboration with experts at the Stanford Graduate School of Education\\n• Aligns with Head Start Early Learning Outcomes Framework and Common Core Standards.\\n• Original content from Super Simple Songs®, Bellwether Media, and National Geographic Young Explorer Magazine\\nPARENT PARTICIPATION\\n• View child’s progress on activities and topics in the Library.\\n• Read books with your child.\\n• Engage in learning activities and co-play with your child.\\n• Set up multiple children in the Parent Section.\\nABOUT KHAN ACADEMY\\nKhan Academy is a 501(c)(3) nonprofit organization with the mission of providing a free, world-class education for anyone, anywhere. We support teachers’ efforts to help every child succeed with personalized practice. We help students develop the skills, habits, and mindsets for success in school and beyond. Khan Academy has been translated into dozens of languages, and 15 million people around the globe learn on Khan Academy every month. For more information, visit khankids.org.\\nABOUT SUPER SIMPLE SONGS®\\nSkyship Entertainment™ is the creator of the beloved children’s brand, Super Simple™. Their award-winning Super Simple Songs® combines delightful animation and puppetry with original and classic kids’ songs to help make learning simple and fun. With over 10 billion views and 10 million subscribers on YouTube, their songs and videos are favorites with parents, teachers, and kids around the globe.'"
      ]
     },
     "execution_count": 36,
     "metadata": {},
     "output_type": "execute_result"
    }
   ],
   "source": [
    "docs[0]"
   ]
  },
  {
   "cell_type": "code",
   "execution_count": 37,
   "metadata": {},
   "outputs": [],
   "source": [
    "vectorizer = TfidfVectorizer(stop_words=stopset,\n",
    "                                 use_idf=True, ngram_range=(1, 3))\n",
    "X = vectorizer.fit_transform(docs)"
   ]
  },
  {
   "cell_type": "code",
   "execution_count": 38,
   "metadata": {},
   "outputs": [
    {
     "data": {
      "text/plain": [
       "213"
      ]
     },
     "execution_count": 38,
     "metadata": {},
     "output_type": "execute_result"
    }
   ],
   "source": [
    "len(docs)"
   ]
  },
  {
   "cell_type": "code",
   "execution_count": 39,
   "metadata": {},
   "outputs": [
    {
     "data": {
      "text/plain": [
       "<1x69004 sparse matrix of type '<class 'numpy.float64'>'\n",
       "\twith 808 stored elements in Compressed Sparse Row format>"
      ]
     },
     "execution_count": 39,
     "metadata": {},
     "output_type": "execute_result"
    }
   ],
   "source": [
    "X[0]"
   ]
  },
  {
   "cell_type": "code",
   "execution_count": 40,
   "metadata": {},
   "outputs": [
    {
     "data": {
      "text/plain": [
       "(213, 69004)"
      ]
     },
     "execution_count": 40,
     "metadata": {},
     "output_type": "execute_result"
    }
   ],
   "source": [
    "X.shape"
   ]
  },
  {
   "cell_type": "code",
   "execution_count": 41,
   "metadata": {},
   "outputs": [
    {
     "data": {
      "text/plain": [
       "TruncatedSVD(algorithm='randomized', n_components=10, n_iter=100,\n",
       "       random_state=None, tol=0.0)"
      ]
     },
     "execution_count": 41,
     "metadata": {},
     "output_type": "execute_result"
    }
   ],
   "source": [
    "lsa = TruncatedSVD(n_components=10, n_iter=100)\n",
    "lsa.fit(X)"
   ]
  },
  {
   "cell_type": "code",
   "execution_count": 42,
   "metadata": {},
   "outputs": [
    {
     "name": "stdout",
     "output_type": "stream",
     "text": [
      "Concept 0:\n",
      "language learning mondly words learn phrases english vocabulary lessons app  \n",
      "Concept 1:\n",
      "english questions app learn test games fun word kids play  \n",
      "Concept 2:\n",
      "english improve words learn english vocabulary english grammar improve english phrasal word grammar  \n",
      "Concept 3:\n",
      "questions test exam study aviation explanations practice certification app faa  \n",
      "Concept 4:\n",
      "drops language learning thai crazy language learning habit effortless addictive zero  \n",
      "Concept 5:\n",
      "district khan khan academy academy activities view events children around globe child  \n",
      "Concept 6:\n",
      "comebacks district events best comebacks insults view schools earthquakes annotate annotate wave  \n",
      "Concept 7:\n",
      "comebacks best comebacks insults best schools life 500 savage 500 savage comebacks accept trash accept trash talk  \n",
      "Concept 8:\n",
      "usb windows bootable district boot usb bootable bootable usb methods usb usb usb bootable usb  \n",
      "Concept 9:\n",
      "district district schools schools news personalized view information school parents students access district  \n"
     ]
    }
   ],
   "source": [
    "terms = vectorizer.get_feature_names()\n",
    "for i, comp in enumerate(lsa.components_): \n",
    "    termsInComp = zip (terms,comp)\n",
    "    sortedTerms =  sorted(termsInComp, key=lambda x: x[1], reverse=True) [:10]\n",
    "    print (\"Concept %d:\" % i)\n",
    "    for term in sortedTerms:\n",
    "        print (term[0], end=\" \")\n",
    "    print (\" \")"
   ]
  },
  {
   "cell_type": "code",
   "execution_count": null,
   "metadata": {},
   "outputs": [],
   "source": []
  },
  {
   "cell_type": "code",
   "execution_count": null,
   "metadata": {},
   "outputs": [],
   "source": []
  },
  {
   "cell_type": "code",
   "execution_count": null,
   "metadata": {},
   "outputs": [],
   "source": []
  }
 ],
 "metadata": {
  "kernelspec": {
   "display_name": "Python 3",
   "language": "python",
   "name": "python3"
  },
  "language_info": {
   "codemirror_mode": {
    "name": "ipython",
    "version": 3
   },
   "file_extension": ".py",
   "mimetype": "text/x-python",
   "name": "python",
   "nbconvert_exporter": "python",
   "pygments_lexer": "ipython3",
   "version": "3.6.5"
  }
 },
 "nbformat": 4,
 "nbformat_minor": 2
}
