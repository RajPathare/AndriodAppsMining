{
 "cells": [
  {
   "cell_type": "code",
   "execution_count": 1,
   "metadata": {},
   "outputs": [],
   "source": [
    "import pandas as pd\n",
    "import numpy as np\n",
    "import matplotlib.pyplot as plt"
   ]
  },
  {
   "cell_type": "code",
   "execution_count": 2,
   "metadata": {},
   "outputs": [],
   "source": [
    "df = pd.read_csv('1000Apps.csv')"
   ]
  },
  {
   "cell_type": "code",
   "execution_count": 3,
   "metadata": {},
   "outputs": [
    {
     "data": {
      "text/html": [
       "<div>\n",
       "<style scoped>\n",
       "    .dataframe tbody tr th:only-of-type {\n",
       "        vertical-align: middle;\n",
       "    }\n",
       "\n",
       "    .dataframe tbody tr th {\n",
       "        vertical-align: top;\n",
       "    }\n",
       "\n",
       "    .dataframe thead th {\n",
       "        text-align: right;\n",
       "    }\n",
       "</style>\n",
       "<table border=\"1\" class=\"dataframe\">\n",
       "  <thead>\n",
       "    <tr style=\"text-align: right;\">\n",
       "      <th></th>\n",
       "      <th>name</th>\n",
       "      <th>numDownloadsMin</th>\n",
       "      <th>fileSize</th>\n",
       "      <th>price</th>\n",
       "      <th>aggregateRating</th>\n",
       "      <th>ratingCount</th>\n",
       "    </tr>\n",
       "  </thead>\n",
       "  <tbody>\n",
       "    <tr>\n",
       "      <th>0</th>\n",
       "      <td>FSP Power App</td>\n",
       "      <td>500</td>\n",
       "      <td>12M</td>\n",
       "      <td>0.0</td>\n",
       "      <td>3.967742</td>\n",
       "      <td>31</td>\n",
       "    </tr>\n",
       "    <tr>\n",
       "      <th>1</th>\n",
       "      <td>FSP Autofahrer-App</td>\n",
       "      <td>500</td>\n",
       "      <td>1,3M</td>\n",
       "      <td>0.0</td>\n",
       "      <td>3.818182</td>\n",
       "      <td>11</td>\n",
       "    </tr>\n",
       "    <tr>\n",
       "      <th>2</th>\n",
       "      <td>Art-picnic FSP</td>\n",
       "      <td>500</td>\n",
       "      <td>2,7M</td>\n",
       "      <td>0.0</td>\n",
       "      <td>4.722222</td>\n",
       "      <td>18</td>\n",
       "    </tr>\n",
       "    <tr>\n",
       "      <th>3</th>\n",
       "      <td>Tennis F.S.P</td>\n",
       "      <td>1</td>\n",
       "      <td>4,5M</td>\n",
       "      <td>0.0</td>\n",
       "      <td>0.000000</td>\n",
       "      <td>0</td>\n",
       "    </tr>\n",
       "    <tr>\n",
       "      <th>4</th>\n",
       "      <td>Super Piano FREE HD</td>\n",
       "      <td>100000</td>\n",
       "      <td>4,1M</td>\n",
       "      <td>0.0</td>\n",
       "      <td>3.982524</td>\n",
       "      <td>1545</td>\n",
       "    </tr>\n",
       "  </tbody>\n",
       "</table>\n",
       "</div>"
      ],
      "text/plain": [
       "                  name  numDownloadsMin fileSize  price  aggregateRating  \\\n",
       "0        FSP Power App              500      12M    0.0         3.967742   \n",
       "1   FSP Autofahrer-App              500     1,3M    0.0         3.818182   \n",
       "2       Art-picnic FSP              500     2,7M    0.0         4.722222   \n",
       "3         Tennis F.S.P                1     4,5M    0.0         0.000000   \n",
       "4  Super Piano FREE HD           100000     4,1M    0.0         3.982524   \n",
       "\n",
       "   ratingCount  \n",
       "0           31  \n",
       "1           11  \n",
       "2           18  \n",
       "3            0  \n",
       "4         1545  "
      ]
     },
     "execution_count": 3,
     "metadata": {},
     "output_type": "execute_result"
    }
   ],
   "source": [
    "df.head()"
   ]
  },
  {
   "cell_type": "code",
   "execution_count": 4,
   "metadata": {},
   "outputs": [
    {
     "name": "stdout",
     "output_type": "stream",
     "text": [
      "1050\n"
     ]
    }
   ],
   "source": [
    "print(len(df))"
   ]
  },
  {
   "cell_type": "code",
   "execution_count": 5,
   "metadata": {},
   "outputs": [
    {
     "name": "stdout",
     "output_type": "stream",
     "text": [
      "1049\n"
     ]
    }
   ],
   "source": [
    "df=df.drop_duplicates(keep='first')\n",
    "print(len(df))"
   ]
  },
  {
   "cell_type": "code",
   "execution_count": 6,
   "metadata": {},
   "outputs": [
    {
     "data": {
      "text/html": [
       "<div>\n",
       "<style scoped>\n",
       "    .dataframe tbody tr th:only-of-type {\n",
       "        vertical-align: middle;\n",
       "    }\n",
       "\n",
       "    .dataframe tbody tr th {\n",
       "        vertical-align: top;\n",
       "    }\n",
       "\n",
       "    .dataframe thead th {\n",
       "        text-align: right;\n",
       "    }\n",
       "</style>\n",
       "<table border=\"1\" class=\"dataframe\">\n",
       "  <thead>\n",
       "    <tr style=\"text-align: right;\">\n",
       "      <th></th>\n",
       "      <th>numDownloadsMin</th>\n",
       "      <th>price</th>\n",
       "      <th>aggregateRating</th>\n",
       "      <th>ratingCount</th>\n",
       "    </tr>\n",
       "  </thead>\n",
       "  <tbody>\n",
       "    <tr>\n",
       "      <th>numDownloadsMin</th>\n",
       "      <td>1.000000</td>\n",
       "      <td>-0.027678</td>\n",
       "      <td>0.050378</td>\n",
       "      <td>0.595505</td>\n",
       "    </tr>\n",
       "    <tr>\n",
       "      <th>price</th>\n",
       "      <td>-0.027678</td>\n",
       "      <td>1.000000</td>\n",
       "      <td>-0.309701</td>\n",
       "      <td>-0.014655</td>\n",
       "    </tr>\n",
       "    <tr>\n",
       "      <th>aggregateRating</th>\n",
       "      <td>0.050378</td>\n",
       "      <td>-0.309701</td>\n",
       "      <td>1.000000</td>\n",
       "      <td>0.031179</td>\n",
       "    </tr>\n",
       "    <tr>\n",
       "      <th>ratingCount</th>\n",
       "      <td>0.595505</td>\n",
       "      <td>-0.014655</td>\n",
       "      <td>0.031179</td>\n",
       "      <td>1.000000</td>\n",
       "    </tr>\n",
       "  </tbody>\n",
       "</table>\n",
       "</div>"
      ],
      "text/plain": [
       "                 numDownloadsMin     price  aggregateRating  ratingCount\n",
       "numDownloadsMin         1.000000 -0.027678         0.050378     0.595505\n",
       "price                  -0.027678  1.000000        -0.309701    -0.014655\n",
       "aggregateRating         0.050378 -0.309701         1.000000     0.031179\n",
       "ratingCount             0.595505 -0.014655         0.031179     1.000000"
      ]
     },
     "execution_count": 6,
     "metadata": {},
     "output_type": "execute_result"
    }
   ],
   "source": [
    "df.corr()"
   ]
  },
  {
   "cell_type": "code",
   "execution_count": 7,
   "metadata": {},
   "outputs": [
    {
     "data": {
      "text/html": [
       "<div>\n",
       "<style scoped>\n",
       "    .dataframe tbody tr th:only-of-type {\n",
       "        vertical-align: middle;\n",
       "    }\n",
       "\n",
       "    .dataframe tbody tr th {\n",
       "        vertical-align: top;\n",
       "    }\n",
       "\n",
       "    .dataframe thead th {\n",
       "        text-align: right;\n",
       "    }\n",
       "</style>\n",
       "<table border=\"1\" class=\"dataframe\">\n",
       "  <thead>\n",
       "    <tr style=\"text-align: right;\">\n",
       "      <th></th>\n",
       "      <th>numDownloadsMin</th>\n",
       "      <th>price</th>\n",
       "      <th>aggregateRating</th>\n",
       "      <th>ratingCount</th>\n",
       "    </tr>\n",
       "  </thead>\n",
       "  <tbody>\n",
       "    <tr>\n",
       "      <th>numDownloadsMin</th>\n",
       "      <td>1.000000</td>\n",
       "      <td>-0.469875</td>\n",
       "      <td>0.212178</td>\n",
       "      <td>0.933613</td>\n",
       "    </tr>\n",
       "    <tr>\n",
       "      <th>price</th>\n",
       "      <td>-0.469875</td>\n",
       "      <td>1.000000</td>\n",
       "      <td>-0.222930</td>\n",
       "      <td>-0.375129</td>\n",
       "    </tr>\n",
       "    <tr>\n",
       "      <th>aggregateRating</th>\n",
       "      <td>0.212178</td>\n",
       "      <td>-0.222930</td>\n",
       "      <td>1.000000</td>\n",
       "      <td>0.301035</td>\n",
       "    </tr>\n",
       "    <tr>\n",
       "      <th>ratingCount</th>\n",
       "      <td>0.933613</td>\n",
       "      <td>-0.375129</td>\n",
       "      <td>0.301035</td>\n",
       "      <td>1.000000</td>\n",
       "    </tr>\n",
       "  </tbody>\n",
       "</table>\n",
       "</div>"
      ],
      "text/plain": [
       "                 numDownloadsMin     price  aggregateRating  ratingCount\n",
       "numDownloadsMin         1.000000 -0.469875         0.212178     0.933613\n",
       "price                  -0.469875  1.000000        -0.222930    -0.375129\n",
       "aggregateRating         0.212178 -0.222930         1.000000     0.301035\n",
       "ratingCount             0.933613 -0.375129         0.301035     1.000000"
      ]
     },
     "execution_count": 7,
     "metadata": {},
     "output_type": "execute_result"
    }
   ],
   "source": [
    "df.corr(method='spearman')"
   ]
  },
  {
   "cell_type": "code",
   "execution_count": null,
   "metadata": {},
   "outputs": [],
   "source": [
    "df.plot()"
   ]
  }
 ],
 "metadata": {
  "kernelspec": {
   "display_name": "Python 3",
   "language": "python",
   "name": "python3"
  },
  "language_info": {
   "codemirror_mode": {
    "name": "ipython",
    "version": 3
   },
   "file_extension": ".py",
   "mimetype": "text/x-python",
   "name": "python",
   "nbconvert_exporter": "python",
   "pygments_lexer": "ipython3",
   "version": "3.6.5"
  }
 },
 "nbformat": 4,
 "nbformat_minor": 2
}
