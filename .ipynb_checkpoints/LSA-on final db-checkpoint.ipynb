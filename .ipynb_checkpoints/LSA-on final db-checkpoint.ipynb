{
 "cells": [
  {
   "cell_type": "code",
   "execution_count": 1,
   "metadata": {},
   "outputs": [],
   "source": [
    "import pandas as pd\n",
    "import nltk\n",
    "from nltk.corpus import stopwords\n",
    "from sklearn.feature_extraction.text import TfidfVectorizer\n",
    "from sklearn.decomposition import TruncatedSVD"
   ]
  },
  {
   "cell_type": "code",
   "execution_count": 13,
   "metadata": {},
   "outputs": [],
   "source": [
    "df = pd.read_csv('dataset/final.csv',index_col=0)"
   ]
  },
  {
   "cell_type": "code",
   "execution_count": 14,
   "metadata": {},
   "outputs": [
    {
     "data": {
      "text/plain": [
       "1851"
      ]
     },
     "execution_count": 14,
     "metadata": {},
     "output_type": "execute_result"
    }
   ],
   "source": [
    "len(df)"
   ]
  },
  {
   "cell_type": "code",
   "execution_count": 15,
   "metadata": {},
   "outputs": [],
   "source": [
    "df=df[df.score>=4.5]"
   ]
  },
  {
   "cell_type": "code",
   "execution_count": 16,
   "metadata": {},
   "outputs": [
    {
     "data": {
      "text/plain": [
       "726"
      ]
     },
     "execution_count": 16,
     "metadata": {},
     "output_type": "execute_result"
    }
   ],
   "source": [
    "len(df)"
   ]
  },
  {
   "cell_type": "code",
   "execution_count": 17,
   "metadata": {},
   "outputs": [],
   "source": [
    "stopset = set(stopwords.words('english'))\n",
    "stopset.update(['/n' ])"
   ]
  },
  {
   "cell_type": "code",
   "execution_count": 18,
   "metadata": {},
   "outputs": [],
   "source": [
    "docs=df['description']"
   ]
  },
  {
   "cell_type": "code",
   "execution_count": 19,
   "metadata": {},
   "outputs": [
    {
     "data": {
      "text/plain": [
       "'Apps for Tracking Spped Post, Registered Post etc., Locate Post Office, Find Pincode, Calcute Postage.'"
      ]
     },
     "execution_count": 19,
     "metadata": {},
     "output_type": "execute_result"
    }
   ],
   "source": [
    "docs[0]"
   ]
  },
  {
   "cell_type": "code",
   "execution_count": 20,
   "metadata": {},
   "outputs": [],
   "source": [
    "vectorizer = TfidfVectorizer(stop_words=stopset,\n",
    "                                 use_idf=True, ngram_range=(1, 3))\n",
    "X = vectorizer.fit_transform(docs)"
   ]
  },
  {
   "cell_type": "code",
   "execution_count": 21,
   "metadata": {},
   "outputs": [
    {
     "data": {
      "text/plain": [
       "726"
      ]
     },
     "execution_count": 21,
     "metadata": {},
     "output_type": "execute_result"
    }
   ],
   "source": [
    "len(docs)"
   ]
  },
  {
   "cell_type": "code",
   "execution_count": 22,
   "metadata": {},
   "outputs": [
    {
     "data": {
      "text/plain": [
       "<1x191970 sparse matrix of type '<class 'numpy.float64'>'\n",
       "\twith 37 stored elements in Compressed Sparse Row format>"
      ]
     },
     "execution_count": 22,
     "metadata": {},
     "output_type": "execute_result"
    }
   ],
   "source": [
    "X[0]"
   ]
  },
  {
   "cell_type": "code",
   "execution_count": 23,
   "metadata": {},
   "outputs": [
    {
     "data": {
      "text/plain": [
       "(726, 191970)"
      ]
     },
     "execution_count": 23,
     "metadata": {},
     "output_type": "execute_result"
    }
   ],
   "source": [
    "X.shape"
   ]
  },
  {
   "cell_type": "code",
   "execution_count": 24,
   "metadata": {},
   "outputs": [
    {
     "data": {
      "text/plain": [
       "TruncatedSVD(algorithm='randomized', n_components=10, n_iter=100,\n",
       "       random_state=None, tol=0.0)"
      ]
     },
     "execution_count": 24,
     "metadata": {},
     "output_type": "execute_result"
    }
   ],
   "source": [
    "lsa = TruncatedSVD(n_components=10, n_iter=100)\n",
    "lsa.fit(X)"
   ]
  },
  {
   "cell_type": "code",
   "execution_count": 25,
   "metadata": {},
   "outputs": [
    {
     "name": "stdout",
     "output_type": "stream",
     "text": [
      "Concept 0:\n",
      "launcher\n",
      "icon\n",
      "icons\n",
      "pack\n",
      "icon pack\n",
      "theme\n",
      "support\n",
      "apply\n",
      "launchers\n",
      "wallpapers\n",
      " \n",
      "Concept 1:\n",
      "video\n",
      "status\n",
      "video status\n",
      "app\n",
      "language\n",
      "learning\n",
      "learn\n",
      "videos\n",
      "shayari\n",
      "words\n",
      " \n",
      "Concept 2:\n",
      "status\n",
      "video\n",
      "video status\n",
      "shayari\n",
      "full screen\n",
      "videos\n",
      "whatsapp\n",
      "full screen video\n",
      "screen video\n",
      "screen video status\n",
      " \n",
      "Concept 3:\n",
      "launcher\n",
      "status\n",
      "video status\n",
      "video\n",
      "language\n",
      "mondly\n",
      "learning\n",
      "phrases\n",
      "words\n",
      "learn\n",
      " \n",
      "Concept 4:\n",
      "shayari\n",
      "launcher\n",
      "यर\n",
      "hindi\n",
      "wallpaper\n",
      "keyboard\n",
      "shayari hindi\n",
      "यर यर\n",
      "phone\n",
      "best\n",
      " \n",
      "Concept 5:\n",
      "shayari\n",
      "यर\n",
      "icons\n",
      "hindi\n",
      "icon\n",
      "shayari hindi\n",
      "यर यर\n",
      "status\n",
      "https\n",
      "facts\n",
      " \n",
      "Concept 6:\n",
      "wallpaper\n",
      "klwp\n",
      "wallpapers\n",
      "theme\n",
      "screen\n",
      "keyboard\n",
      "live wallpaper\n",
      "mondly\n",
      "live\n",
      "kustom\n",
      " \n",
      "Concept 7:\n",
      "klwp\n",
      "pro\n",
      "kwgt\n",
      "kustom\n",
      "compatible\n",
      "widget\n",
      "icon\n",
      "compatible launcher\n",
      "nova\n",
      "questions\n",
      " \n",
      "Concept 8:\n",
      "keyboard\n",
      "icon\n",
      "lg home\n",
      "home\n",
      "launchers\n",
      "lg\n",
      "apply\n",
      "dashboard\n",
      "compatible\n",
      "profile\n",
      " \n",
      "Concept 9:\n",
      "keyboard\n",
      "klwp\n",
      "english\n",
      "typing\n",
      "keyboard theme\n",
      "theme\n",
      "emoji\n",
      "touchpal\n",
      "kustom\n",
      "butterfly\n",
      " \n"
     ]
    }
   ],
   "source": [
    "terms = vectorizer.get_feature_names()\n",
    "for i, comp in enumerate(lsa.components_): \n",
    "    termsInComp = zip (terms,comp)\n",
    "    sortedTerms =  sorted(termsInComp, key=lambda x: x[1], reverse=True) [:10]\n",
    "    print (\"Concept %d:\" % i)\n",
    "    for term in sortedTerms:\n",
    "        print (term[0])\n",
    "    print (\" \")"
   ]
  },
  {
   "cell_type": "code",
   "execution_count": null,
   "metadata": {},
   "outputs": [],
   "source": []
  },
  {
   "cell_type": "code",
   "execution_count": null,
   "metadata": {},
   "outputs": [],
   "source": []
  },
  {
   "cell_type": "code",
   "execution_count": null,
   "metadata": {},
   "outputs": [],
   "source": []
  }
 ],
 "metadata": {
  "kernelspec": {
   "display_name": "Python 3",
   "language": "python",
   "name": "python3"
  },
  "language_info": {
   "codemirror_mode": {
    "name": "ipython",
    "version": 3
   },
   "file_extension": ".py",
   "mimetype": "text/x-python",
   "name": "python",
   "nbconvert_exporter": "python",
   "pygments_lexer": "ipython3",
   "version": "3.6.5"
  }
 },
 "nbformat": 4,
 "nbformat_minor": 2
}
