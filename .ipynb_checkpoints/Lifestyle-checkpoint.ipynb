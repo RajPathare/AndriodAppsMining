{
 "cells": [
  {
   "cell_type": "code",
   "execution_count": 1,
   "metadata": {},
   "outputs": [],
   "source": [
    "import play_scraper"
   ]
  },
  {
   "cell_type": "code",
   "execution_count": 18,
   "metadata": {},
   "outputs": [],
   "source": [
    "data=play_scraper.collection(\n",
    "        collection='NEW_FREE',\n",
    "        category='LIFESTYLE',\n",
    "        results=50,\n",
    "        page=1,\n",
    "        detailed=True,\n",
    "        gl='in'\n",
    ")"
   ]
  },
  {
   "cell_type": "code",
   "execution_count": 25,
   "metadata": {},
   "outputs": [
    {
     "data": {
      "text/plain": [
       "'Mandhirikakkadal'"
      ]
     },
     "execution_count": 25,
     "metadata": {},
     "output_type": "execute_result"
    }
   ],
   "source": [
    "data[0]['title']"
   ]
  },
  {
   "cell_type": "code",
   "execution_count": 26,
   "metadata": {},
   "outputs": [],
   "source": [
    "import csv"
   ]
  },
  {
   "cell_type": "code",
   "execution_count": 27,
   "metadata": {},
   "outputs": [],
   "source": [
    "keys = data[0].keys()"
   ]
  },
  {
   "cell_type": "code",
   "execution_count": 28,
   "metadata": {},
   "outputs": [],
   "source": [
    "with open('dataset/lifestyle.csv', 'a',newline='',encoding='utf-8') as output_file:\n",
    "    dict_writer = csv.DictWriter(output_file, keys)\n",
    "    dict_writer.writeheader()"
   ]
  },
  {
   "cell_type": "code",
   "execution_count": 29,
   "metadata": {},
   "outputs": [
    {
     "name": "stdout",
     "output_type": "stream",
     "text": [
      "50\n"
     ]
    }
   ],
   "source": [
    "print(len(data))\n",
    "import re"
   ]
  },
  {
   "cell_type": "code",
   "execution_count": 30,
   "metadata": {},
   "outputs": [
    {
     "name": "stdout",
     "output_type": "stream",
     "text": [
      "appmandhirikakkadalin.wpapp\n",
      "com.iamjayakishori.jayakishori\n",
      "com.siddhtotke.SiddhTotke_Solutions\n",
      "com.smart.lock.sercue.secretdiary\n",
      "com.coloringbook.paintbynumbers2019\n",
      "entertain.in.sayari2018\n",
      "power_ranger_wallpaper_power_ranger_wallpaper_avenger_spider_legend.com\n",
      "com.thirumanaporutham.tamilmatrimonymarriageporutham\n",
      "oppo.consumer.android\n",
      "com.skrsoft.asiacup18\n",
      "com.astroanand\n",
      "com.launcher.theme.t211813566\n",
      "com.waz.hindicalendar2019\n",
      "com.pathao.driver\n",
      "com.gigwalk\n",
      "com.appdownloadertaqleed.viamade\n",
      "midea.woop.men.hairstyle.mustache\n",
      "com.samudrikshastra\n",
      "in.yourdiary.app.yourdiary\n",
      "greenwald.app.circuit\n",
      "sajjad.ahmed.greatapp313.oppo.galaxy.f9.Samsung.J7.Duo.launcher.theme\n",
      "com.replica.retail\n",
      "com.appybuilder.CURRENTAFFAIRSANDGENERALK.Osho\n",
      "com.ly.astrological.astrologically\n",
      "com.usefulapps.mirror\n",
      "com.app.zomatocoupon\n",
      "sandeep.maheshwari.app\n",
      "com.nissadev.RailingDesignIdeas.home.lifestyle.design.update.furniture\n",
      "usBobble.jewel.candycookieisland\n",
      "air.com.indiegoes.angelnumber\n",
      "com.habits.juxiao\n",
      "com.quotes.dailymotivationalquotes\n",
      "com.RBNApps.BlouseCuttingAndStitchingTailoringinTamil\n",
      "com.andromo.dev391844.app854920\n",
      "com.sbnapps.meyederlifestyle.womenskinhaircare\n",
      "com.period.menstrual.follow.safety\n",
      "com.selfiephotolab.b812selfiegenic\n",
      "com.african.fashion.ke\n",
      "com.appybuilder.roopramsinghchharra67.Treck_Post\n",
      "com.Chibi.Avatar.Maker.Vex\n",
      "com.kohinur.zone.mehndidesigns\n",
      "com.gps.photo.location_2019\n",
      "com.RBNApps.BlouseCuttingStitchingTamil2018\n",
      "com.popkeyboardtheme.summer_beach\n",
      "mydiary.awnoussapp\n",
      "com.studio.horoufsowar.m\n",
      "bhagavad.gita.quotes.dubapps\n",
      "com.tips.nun\n",
      "com.manojbabu1to10.Kaushal_army\n",
      "com.urvalabs.gautambudhha\n"
     ]
    }
   ],
   "source": [
    "for x in data:\n",
    "    print(x['app_id'])\n",
    "    \n",
    "    if(isinstance(x['installs'], str)):\n",
    "        x['installs']=re.sub('[^A-Za-z0-9]+', '', x['installs'])\n",
    "        \n",
    "    x['installs']=int(x['installs'])\n",
    "    \n",
    "    if(isinstance(x['screenshots'], list)):\n",
    "        x['screenshots']=len(x['screenshots'])\n",
    "    with open('dataset/lifestyle.csv', 'a',newline='',encoding='utf-8') as output_file:\n",
    "        dict_writer = csv.DictWriter(output_file, keys)\n",
    "        dict_writer.writerow(x)"
   ]
  },
  {
   "cell_type": "code",
   "execution_count": 38,
   "metadata": {},
   "outputs": [],
   "source": [
    "data=play_scraper.collection(\n",
    "        collection='NEW_PAID',\n",
    "        category='LIFESTYLE',\n",
    "        results=50,\n",
    "        page=1,\n",
    "        detailed=True,\n",
    "        gl='in'\n",
    ")"
   ]
  },
  {
   "cell_type": "code",
   "execution_count": 39,
   "metadata": {},
   "outputs": [
    {
     "ename": "IndexError",
     "evalue": "list index out of range",
     "output_type": "error",
     "traceback": [
      "\u001b[1;31m---------------------------------------------------------------------------\u001b[0m",
      "\u001b[1;31mIndexError\u001b[0m                                Traceback (most recent call last)",
      "\u001b[1;32m<ipython-input-39-4d88f28d6016>\u001b[0m in \u001b[0;36m<module>\u001b[1;34m()\u001b[0m\n\u001b[1;32m----> 1\u001b[1;33m \u001b[0mdata\u001b[0m\u001b[1;33m[\u001b[0m\u001b[1;36m0\u001b[0m\u001b[1;33m]\u001b[0m\u001b[1;33m[\u001b[0m\u001b[1;34m'title'\u001b[0m\u001b[1;33m]\u001b[0m\u001b[1;33m\u001b[0m\u001b[0m\n\u001b[0m",
      "\u001b[1;31mIndexError\u001b[0m: list index out of range"
     ]
    }
   ],
   "source": [
    "data[0]['title']"
   ]
  },
  {
   "cell_type": "code",
   "execution_count": 14,
   "metadata": {},
   "outputs": [
    {
     "name": "stdout",
     "output_type": "stream",
     "text": [
      "com.itclegions.Paralus2\n",
      "com.hayhouse.moneythelawofattraction\n",
      "com.hayhouse.heartthoughtscards\n",
      "com.hayhouse.notesfromtheuniverseonabundance\n",
      "com.itclegions.EMF\n"
     ]
    }
   ],
   "source": [
    "for x in data:\n",
    "    print(x['app_id'])\n",
    "    \n",
    "    if(isinstance(x['installs'], str)):\n",
    "        x['installs']=re.sub('[^A-Za-z0-9]+', '', x['installs'])\n",
    "        \n",
    "    x['installs']=int(x['installs'])\n",
    "    \n",
    "    if(isinstance(x['screenshots'], list)):\n",
    "        x['screenshots']=len(x['screenshots'])\n",
    "    with open('dataset/lifestyle.csv', 'a',newline='',encoding='utf-8') as output_file:\n",
    "        dict_writer = csv.DictWriter(output_file, keys)\n",
    "        dict_writer.writerow(x)"
   ]
  },
  {
   "cell_type": "code",
   "execution_count": 15,
   "metadata": {},
   "outputs": [],
   "source": [
    "data=play_scraper.collection(\n",
    "        collection='TOP_FREE',\n",
    "        category='ENTERTAINMENT',\n",
    "        results=50,\n",
    "        page=1,\n",
    "        detailed=True,\n",
    "        gl='in'\n",
    ")"
   ]
  },
  {
   "cell_type": "code",
   "execution_count": 16,
   "metadata": {},
   "outputs": [
    {
     "name": "stdout",
     "output_type": "stream",
     "text": [
      "com.google.android.apps.youtube.kids\n",
      "air.com.glammyclub.colorfulfashionhairsalon\n",
      "com.dj3d.mixer.turntable\n",
      "digit.solutions.dpandstatus\n",
      "connectappzone.electromusicdrum\n",
      "com.pace.whatstrackerpro\n",
      "air.com.bmapps.girlmakeupsalon\n",
      "buzz.bazzar\n",
      "com.androidrocker.voicechanger\n",
      "com.renderedideas.skaterkid\n",
      "com.outfit7.talkinggingerfree\n",
      "com.bitstrips.imoji\n",
      "air.com.bmapps.gossipgirlsdivasinhighschool\n",
      "com.hasonhg.chutkiul\n",
      "com.mediaadnetworks.spinthewheel.earnmoney\n",
      "com.tiawy.fakechat\n",
      "com.jetpackinwater.racersimualtor.danger\n",
      "air.com.bmapps.highschoolgirlshousecleaning\n",
      "com.pinaka.gamesnow\n",
      "com.facelock.prank\n",
      "videos.share.rozdhan\n",
      "com.istudio.video.funny.tiktok\n",
      "india.app.statusjosabkohilade\n",
      "com.babyfish.policesiren\n",
      "photosoft.musicallyfunnyvideomaker\n",
      "com.haryanavi.dance.latest\n",
      "com.sogukcayapps.starsdisco\n",
      "com.detector.lie.game.prank\n",
      "air.net.chicworld.fruityicecreamcakecooking\n",
      "com.apps.techcube.cartoons\n",
      "air.com.winkypinky.babybellabraidedhairsalon\n",
      "air.com.glammyclub.teacherclassroomcare\n",
      "com.brilliantappstudios.oldphonedialer.keypad\n",
      "com.MadeinIndia.VideoStatus\n",
      "ru.coder1cv8.snake\n",
      "com.m2c.lie.detector.prank\n",
      "com.fakecallgame\n",
      "com.nilsbros.hornandsirens\n",
      "com.vidsoft.adnan.tomjerryjav\n",
      "com.outfit7.tomlovesangelafree\n",
      "com.handroid.cameragunfight\n",
      "com.newfree.bestapps.hindi_film_movie_dialogue\n",
      "com.freeamazingapps.ganesharingtones\n",
      "com.ultimatevideoapp.videosong\n",
      "net.srikandiinc.videotiktok2018\n",
      "psdeveloper.videostatus.latestcollection\n",
      "com.girlscoloringbookfromuv.android\n",
      "air.com.winkypinky.princesscastleroom\n",
      "air.com.bmapps.highschoolgirlfattofit\n",
      "com.aagames.royalindiangirlfashionsalon\n"
     ]
    }
   ],
   "source": [
    "data[0]['title']\n",
    "for x in data:\n",
    "    print(x['app_id'])\n",
    "    \n",
    "    if(isinstance(x['installs'], str)):\n",
    "        x['installs']=re.sub('[^A-Za-z0-9]+', '', x['installs'])\n",
    "        \n",
    "    x['installs']=int(x['installs'])\n",
    "    \n",
    "    if(isinstance(x['screenshots'], list)):\n",
    "        x['screenshots']=len(x['screenshots'])\n",
    "    with open('dataset/lifestyle.csv', 'a',newline='',encoding='utf-8') as output_file:\n",
    "        dict_writer = csv.DictWriter(output_file, keys)\n",
    "        dict_writer.writerow(x)"
   ]
  },
  {
   "cell_type": "code",
   "execution_count": null,
   "metadata": {},
   "outputs": [],
   "source": [
    "data=play_scraper.collection(\n",
    "        collection='TOP_PAID',\n",
    "        category='LIFESTYLE',\n",
    "        results=50,\n",
    "        page=1,\n",
    "        detailed=True,\n",
    "        gl='in'\n",
    ")"
   ]
  },
  {
   "cell_type": "code",
   "execution_count": null,
   "metadata": {},
   "outputs": [],
   "source": [
    "data[0]['title']\n",
    "for x in data:\n",
    "    print(x['app_id'])\n",
    "    \n",
    "    if(isinstance(x['installs'], str)):\n",
    "        x['installs']=re.sub('[^A-Za-z0-9]+', '', x['installs'])\n",
    "        \n",
    "    x['installs']=int(x['installs'])\n",
    "    \n",
    "    if(isinstance(x['screenshots'], list)):\n",
    "        x['screenshots']=len(x['screenshots'])\n",
    "    with open('dataset/lifestyle.csv', 'a',newline='',encoding='utf-8') as output_file:\n",
    "        dict_writer = csv.DictWriter(output_file, keys)\n",
    "        dict_writer.writerow(x)"
   ]
  },
  {
   "cell_type": "code",
   "execution_count": null,
   "metadata": {},
   "outputs": [],
   "source": [
    "data=play_scraper.collection(\n",
    "        collection='TOP_GROSSING',\n",
    "        category='LIFESTYLE',\n",
    "        results=50,\n",
    "        page=1,\n",
    "        detailed=True,\n",
    "        gl='in'\n",
    ")"
   ]
  },
  {
   "cell_type": "code",
   "execution_count": null,
   "metadata": {},
   "outputs": [],
   "source": [
    "data[0]['title']\n",
    "for x in data:\n",
    "    print(x['app_id'])\n",
    "    \n",
    "    if(isinstance(x['installs'], str)):\n",
    "        x['installs']=re.sub('[^A-Za-z0-9]+', '', x['installs'])\n",
    "        \n",
    "    x['installs']=int(x['installs'])\n",
    "    \n",
    "    if(isinstance(x['screenshots'], list)):\n",
    "        x['screenshots']=len(x['screenshots'])\n",
    "    with open('dataset/lifestyle.csv', 'a',newline='',encoding='utf-8') as output_file:\n",
    "        dict_writer = csv.DictWriter(output_file, keys)\n",
    "        dict_writer.writerow(x)"
   ]
  },
  {
   "cell_type": "code",
   "execution_count": null,
   "metadata": {},
   "outputs": [],
   "source": [
    "data=play_scraper.collection(\n",
    "        collection='TOP_GROSSING',\n",
    "        category='LIFESTYLE',\n",
    "        results=50,\n",
    "        page=1,\n",
    "        detailed=True,\n",
    "        gl='in'\n",
    ")"
   ]
  },
  {
   "cell_type": "code",
   "execution_count": null,
   "metadata": {},
   "outputs": [],
   "source": [
    "data[0]['title']\n",
    "for x in data:\n",
    "    print(x['app_id'])\n",
    "    \n",
    "    if(isinstance(x['installs'], str)):\n",
    "        x['installs']=re.sub('[^A-Za-z0-9]+', '', x['installs'])\n",
    "        \n",
    "    x['installs']=int(x['installs'])\n",
    "    \n",
    "    if(isinstance(x['screenshots'], list)):\n",
    "        x['screenshots']=len(x['screenshots'])\n",
    "    with open('dataset/lifestyle.csv', 'a',newline='',encoding='utf-8') as output_file:\n",
    "        dict_writer = csv.DictWriter(output_file, keys)\n",
    "        dict_writer.writerow(x)"
   ]
  }
 ],
 "metadata": {
  "kernelspec": {
   "display_name": "Python 3",
   "language": "python",
   "name": "python3"
  },
  "language_info": {
   "codemirror_mode": {
    "name": "ipython",
    "version": 3
   },
   "file_extension": ".py",
   "mimetype": "text/x-python",
   "name": "python",
   "nbconvert_exporter": "python",
   "pygments_lexer": "ipython3",
   "version": "3.6.5"
  }
 },
 "nbformat": 4,
 "nbformat_minor": 2
}
