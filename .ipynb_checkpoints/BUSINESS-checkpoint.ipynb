{
 "cells": [
  {
   "cell_type": "code",
   "execution_count": 1,
   "metadata": {},
   "outputs": [],
   "source": [
    "import play_scraper"
   ]
  },
  {
   "cell_type": "code",
   "execution_count": 11,
   "metadata": {},
   "outputs": [],
   "source": [
    "data=play_scraper.collection(\n",
    "        collection='NEW_FREE',\n",
    "        category='BUSINESS',\n",
    "        results=50,\n",
    "        page=1,\n",
    "        detailed=True,\n",
    "        gl='in'\n",
    ")"
   ]
  },
  {
   "cell_type": "code",
   "execution_count": 12,
   "metadata": {},
   "outputs": [
    {
     "data": {
      "text/plain": [
       "'ECHOVOX System 3'"
      ]
     },
     "execution_count": 12,
     "metadata": {},
     "output_type": "execute_result"
    }
   ],
   "source": [
    "data[0]['title']"
   ]
  },
  {
   "cell_type": "code",
   "execution_count": 13,
   "metadata": {},
   "outputs": [],
   "source": [
    "import csv"
   ]
  },
  {
   "cell_type": "code",
   "execution_count": 14,
   "metadata": {},
   "outputs": [],
   "source": [
    "keys = data[0].keys()"
   ]
  },
  {
   "cell_type": "code",
   "execution_count": 6,
   "metadata": {},
   "outputs": [],
   "source": [
    "with open('dataset/BUSINESS.csv', 'a',newline='',encoding='utf-8') as output_file:\n",
    "    dict_writer = csv.DictWriter(output_file, keys)\n",
    "    dict_writer.writeheader()"
   ]
  },
  {
   "cell_type": "code",
   "execution_count": 15,
   "metadata": {},
   "outputs": [
    {
     "name": "stdout",
     "output_type": "stream",
     "text": [
      "50\n"
     ]
    }
   ],
   "source": [
    "print(len(data))\n",
    "import re"
   ]
  },
  {
   "cell_type": "code",
   "execution_count": 16,
   "metadata": {},
   "outputs": [
    {
     "name": "stdout",
     "output_type": "stream",
     "text": [
      "com.bigbeard.echovox\n",
      "com.ez.smarthome.ihc.voice\n",
      "com.fibercode.familytracker\n",
      "com.fognl.solex\n",
      "kr.co.bausoft.JpmrM\n",
      "com.aim.mondkalender\n",
      "se.nabo.dogtracks\n",
      "fr.anuman.HomeDesign3DOutdoorGarden.Full\n",
      "com.hutchinsonsoftware.gardenate\n",
      "at.nineyards.lunarcalendar\n",
      "appinventor.ai_MAdelSelim.PXBSpiritBox_11\n",
      "com.addicted2salsa.pocketsalsa\n",
      "com.blowfishlab.huewidget\n",
      "ru.psergv72.ecanvas.pro\n",
      "com.tbd.ParadoxGhostBox\n",
      "com.alldayapps.android.linelearner\n",
      "com.hookah.gardroid\n",
      "com.cosmicapps.astrogold\n",
      "com.lightcontroller\n",
      "com.sevigpress.simplissime\n",
      "com.fruit4droid.cronosurf.pro\n",
      "tv.gabbyb.spiritjunkie\n",
      "net.ddroid.aw.watchface.rf04\n",
      "com.hayhouse.theuniversehasyourback\n",
      "com.firelitstudios.monogram\n",
      "nl.mediavibe.huemindbody\n",
      "chaos.servers.com.chaosmagickeng\n",
      "com.dunitiapps.cast.aquarium\n",
      "com.indiworx.moonworx\n",
      "com.degausspress.CPR\n",
      "com.askyourheart\n",
      "app.diary\n",
      "com.cleo.unse.cheonha\n",
      "com.icechen1.sleepytime.plus\n",
      "com.invelos.dvdprofiler\n",
      "it.slowfood.osterie.edition2018\n",
      "com.hayhouse.powerthoughtcards\n",
      "koru.dhakasir\n",
      "com.app_sccdemo.layout\n",
      "com.erc.bibliaaiopro\n",
      "com.fws.plantsnap\n",
      "kr.review.lifesaju\n",
      "com.honeywell.hsg.intrusion.lynxconnect\n",
      "net.ddroid.aw.watchface.ra45\n",
      "com.kicker.android.kickeru\n",
      "com.relaxing.fireplaces_premium\n",
      "com.powerandroidbd.textingapp.paid\n",
      "com.mobication.EggTimerPro.AdFree\n",
      "com.shihchang.ape17.astrology_no_advertising\n",
      "com.xeen_software.macfull\n"
     ]
    }
   ],
   "source": [
    "for x in data:\n",
    "    print(x['app_id'])\n",
    "    \n",
    "    if(isinstance(x['installs'], str)):\n",
    "        x['installs']=re.sub('[^A-Za-z0-9]+', '', x['installs'])\n",
    "        \n",
    "    x['installs']=int(x['installs'])\n",
    "    \n",
    "    if(isinstance(x['screenshots'], list)):\n",
    "        x['screenshots']=len(x['screenshots'])\n",
    "    with open('dataset/BUSINESS.csv', 'a',newline='',encoding='utf-8') as output_file:\n",
    "        dict_writer = csv.DictWriter(output_file, keys)\n",
    "        dict_writer.writerow(x)"
   ]
  },
  {
   "cell_type": "code",
   "execution_count": 9,
   "metadata": {},
   "outputs": [],
   "source": [
    "data=play_scraper.collection(\n",
    "        collection='NEW_PAID',\n",
    "        category='BUSINESS',\n",
    "        results=50,\n",
    "        page=1,\n",
    "        detailed=True,\n",
    "        gl='in'\n",
    ")"
   ]
  },
  {
   "cell_type": "code",
   "execution_count": 10,
   "metadata": {},
   "outputs": [
    {
     "ename": "IndexError",
     "evalue": "list index out of range",
     "output_type": "error",
     "traceback": [
      "\u001b[1;31m---------------------------------------------------------------------------\u001b[0m",
      "\u001b[1;31mIndexError\u001b[0m                                Traceback (most recent call last)",
      "\u001b[1;32m<ipython-input-10-4d88f28d6016>\u001b[0m in \u001b[0;36m<module>\u001b[1;34m()\u001b[0m\n\u001b[1;32m----> 1\u001b[1;33m \u001b[0mdata\u001b[0m\u001b[1;33m[\u001b[0m\u001b[1;36m0\u001b[0m\u001b[1;33m]\u001b[0m\u001b[1;33m[\u001b[0m\u001b[1;34m'title'\u001b[0m\u001b[1;33m]\u001b[0m\u001b[1;33m\u001b[0m\u001b[0m\n\u001b[0m",
      "\u001b[1;31mIndexError\u001b[0m: list index out of range"
     ]
    }
   ],
   "source": [
    "data[0]['title']"
   ]
  },
  {
   "cell_type": "code",
   "execution_count": 14,
   "metadata": {},
   "outputs": [
    {
     "name": "stdout",
     "output_type": "stream",
     "text": [
      "com.itclegions.Paralus2\n",
      "com.hayhouse.moneythelawofattraction\n",
      "com.hayhouse.heartthoughtscards\n",
      "com.hayhouse.notesfromtheuniverseonabundance\n",
      "com.itclegions.EMF\n"
     ]
    }
   ],
   "source": [
    "for x in data:\n",
    "    print(x['app_id'])\n",
    "    \n",
    "    if(isinstance(x['installs'], str)):\n",
    "        x['installs']=re.sub('[^A-Za-z0-9]+', '', x['installs'])\n",
    "        \n",
    "    x['installs']=int(x['installs'])\n",
    "    \n",
    "    if(isinstance(x['screenshots'], list)):\n",
    "        x['screenshots']=len(x['screenshots'])\n",
    "    with open('dataset/BUSINESS.csv', 'a',newline='',encoding='utf-8') as output_file:\n",
    "        dict_writer = csv.DictWriter(output_file, keys)\n",
    "        dict_writer.writerow(x)"
   ]
  },
  {
   "cell_type": "code",
   "execution_count": 17,
   "metadata": {},
   "outputs": [],
   "source": [
    "data=play_scraper.collection(\n",
    "        collection='TOP_FREE',\n",
    "        category='BUSINESS',\n",
    "        results=50,\n",
    "        page=1,\n",
    "        detailed=True,\n",
    "        gl='in'\n",
    ")"
   ]
  },
  {
   "cell_type": "code",
   "execution_count": 18,
   "metadata": {},
   "outputs": [
    {
     "name": "stdout",
     "output_type": "stream",
     "text": [
      "com.thalia.fingerprint.love.test.couples\n",
      "air.com.bmapps.girlmakeupsalon\n",
      "com.google.android.apps.youtube.kids\n",
      "com.dj3d.mixer.turntable\n",
      "digit.solutions.dpandstatus\n",
      "com.apps.techcube.cartoons\n",
      "connectappzone.electromusicdrum\n",
      "com.androidrocker.voicechanger\n",
      "com.outfit7.talkinggingerfree\n",
      "com.hasonhg.chutkiul\n",
      "com.renderedideas.skaterkid\n",
      "com.jatindrabiswas17.dd_india\n",
      "air.com.bmapps.gossipgirlsdivasinhighschool\n",
      "buzz.bazzar\n",
      "air.com.bmapps.highschoolgirlshousecleaning\n",
      "com.bitstrips.imoji\n",
      "com.jetpackinwater.racersimualtor.danger\n",
      "photosoft.musicallyfunnyvideomaker\n",
      "com.tiawy.fakechat\n",
      "com.facelock.prank\n",
      "com.aagames.royalindiangirlfashionsalon\n",
      "com.vidsoft.adnan.tomjerryjav\n",
      "air.net.chicworld.fruityicecreamcakecooking\n",
      "videos.share.rozdhan\n",
      "air.com.winkypinky.babybellabraidedhairsalon\n",
      "india.app.statusjosabkohilade\n",
      "com.babyfish.policesiren\n",
      "com.pace.whatstrackerpro\n",
      "ru.coder1cv8.snake\n",
      "com.sogukcayapps.starsdisco\n",
      "com.detector.lie.game.prank\n",
      "com.haryanavi.dance.latest\n",
      "com.istudio.video.funny.tiktok\n",
      "air.com.glammyclub.teacherclassroomcare\n",
      "air.com.bmapps.princessshoecake\n",
      "com.m2c.lie.detector.prank\n",
      "skins.worldtruckdrivingsimulator\n",
      "com.handroid.cameragunfight\n",
      "com.nilsbros.hornandsirens\n",
      "com.outfit7.tomlovesangelafree\n",
      "air.com.bmapps.pinkyhousekeepingclean\n",
      "com.brilliantappstudios.oldphonedialer.keypad\n",
      "com.fakecallgame\n",
      "com.freeamazingapps.ganesharingtones\n",
      "shayari.allinoneapp\n",
      "com.snstu.silahseslerioyunugunsimweaponsounds\n",
      "com.gamelead.archer.best.shot.archery.king.master\n",
      "com.MadeinIndia.VideoStatus\n",
      "air.com.bmapps.highschoolgirlfattofit\n",
      "air.com.winkypinky.princesscastleroom\n"
     ]
    }
   ],
   "source": [
    "data[0]['title']\n",
    "for x in data:\n",
    "    print(x['app_id'])\n",
    "    \n",
    "    if(isinstance(x['installs'], str)):\n",
    "        x['installs']=re.sub('[^A-Za-z0-9]+', '', x['installs'])\n",
    "        \n",
    "    x['installs']=int(x['installs'])\n",
    "    \n",
    "    if(isinstance(x['screenshots'], list)):\n",
    "        x['screenshots']=len(x['screenshots'])\n",
    "    with open('dataset/BUSINESS.csv', 'a',newline='',encoding='utf-8') as output_file:\n",
    "        dict_writer = csv.DictWriter(output_file, keys)\n",
    "        dict_writer.writerow(x)"
   ]
  },
  {
   "cell_type": "code",
   "execution_count": null,
   "metadata": {},
   "outputs": [],
   "source": [
    "data=play_scraper.collection(\n",
    "        collection='TOP_PAID',\n",
    "        category='BUSINESS',\n",
    "        results=50,\n",
    "        page=1,\n",
    "        detailed=True,\n",
    "        gl='in'\n",
    ")"
   ]
  },
  {
   "cell_type": "code",
   "execution_count": null,
   "metadata": {},
   "outputs": [],
   "source": [
    "data[0]['title']\n",
    "for x in data:\n",
    "    print(x['app_id'])\n",
    "    \n",
    "    if(isinstance(x['installs'], str)):\n",
    "        x['installs']=re.sub('[^A-Za-z0-9]+', '', x['installs'])\n",
    "        \n",
    "    x['installs']=int(x['installs'])\n",
    "    \n",
    "    if(isinstance(x['screenshots'], list)):\n",
    "        x['screenshots']=len(x['screenshots'])\n",
    "    with open('dataset/BUSINESS.csv', 'a',newline='',encoding='utf-8') as output_file:\n",
    "        dict_writer = csv.DictWriter(output_file, keys)\n",
    "        dict_writer.writerow(x)"
   ]
  },
  {
   "cell_type": "code",
   "execution_count": 19,
   "metadata": {},
   "outputs": [],
   "source": [
    "data=play_scraper.collection(\n",
    "        collection='TOP_GROSSING',\n",
    "        category='BUSINESS',\n",
    "        results=50,\n",
    "        page=1,\n",
    "        detailed=True,\n",
    "        gl='in'\n",
    ")"
   ]
  },
  {
   "cell_type": "code",
   "execution_count": 20,
   "metadata": {},
   "outputs": [
    {
     "name": "stdout",
     "output_type": "stream",
     "text": [
      "com.josephprince\n",
      "com.clickastro.horoscope\n",
      "com.dewneot.astrology\n",
      "com.devq.atmyhome\n",
      "com.webjyotishi.astroremediespro\n",
      "com.gman.japa\n",
      "com.rosterbuster\n",
      "com.dailyinsights\n",
      "com.webjyotishi.ekundalitouch\n",
      "com.bodybuilding.jimstoppani.shortcuttoshred\n",
      "supersoft.prophet.astrology.malayalam.Subscribe\n",
      "com.liquidsoftwaremobile.mytarotadvisornet\n",
      "com.zing.ximea.artifact\n",
      "com.imarriages.imarriages\n",
      "fr.anuman.HomeDesign3D\n",
      "com.clickastro.horoscope.hindi\n",
      "com.datelux\n",
      "com.mingle.FranceCupid\n",
      "com.urbandroid.sleep.full.key\n",
      "droom.sleepIfUCan\n",
      "com.official.astrology\n",
      "com.green.dog\n",
      "com.innovate.IndiaSocial\n",
      "com.lifelapse\n",
      "au.com.rockpoolpublishing.oraclecards\n",
      "com.magzter.infinithoughts\n",
      "com.intelligentchange.fiveminutejournal\n",
      "vn.megastream\n",
      "com.designs1290.tingles\n",
      "com.mypsychic.android\n",
      "com.penzu.android\n",
      "com.bigbeard.echovox\n",
      "com.universalis.android.universalis\n",
      "com.aadi.personalitytraittest\n",
      "com.gratitude.challenge\n",
      "com.gem.rebootbrain\n",
      "com.webjyotishi.astrologykppro\n",
      "com.webjyotishi.lalkitabastro\n",
      "com.clickastro.horoscope.kannada\n",
      "air.com.indiegoes.spiritualcoaching\n",
      "com.magzter.tinkle\n",
      "com.everydaycheckmobile\n",
      "com.mingle.SingleParentsMingle\n",
      "com.magzter.adarchitecturaldigestindia\n",
      "com.webjyotishi.numerology_vedic\n",
      "com.hemisphere3.tarot\n",
      "com.cricut.designspace\n",
      "com.magzter.puthiyaariviyalnewscience\n",
      "com.adpog.diary\n",
      "com.thegoodbook.explore\n"
     ]
    }
   ],
   "source": [
    "data[0]['title']\n",
    "for x in data:\n",
    "    print(x['app_id'])\n",
    "    \n",
    "    if(isinstance(x['installs'], str)):\n",
    "        x['installs']=re.sub('[^A-Za-z0-9]+', '', x['installs'])\n",
    "        \n",
    "    x['installs']=int(x['installs'])\n",
    "    \n",
    "    if(isinstance(x['screenshots'], list)):\n",
    "        x['screenshots']=len(x['screenshots'])\n",
    "    with open('dataset/BUSINESS.csv', 'a',newline='',encoding='utf-8') as output_file:\n",
    "        dict_writer = csv.DictWriter(output_file, keys)\n",
    "        dict_writer.writerow(x)"
   ]
  },
  {
   "cell_type": "code",
   "execution_count": null,
   "metadata": {},
   "outputs": [],
   "source": []
  },
  {
   "cell_type": "code",
   "execution_count": null,
   "metadata": {},
   "outputs": [],
   "source": []
  }
 ],
 "metadata": {
  "kernelspec": {
   "display_name": "Python 3",
   "language": "python",
   "name": "python3"
  },
  "language_info": {
   "codemirror_mode": {
    "name": "ipython",
    "version": 3
   },
   "file_extension": ".py",
   "mimetype": "text/x-python",
   "name": "python",
   "nbconvert_exporter": "python",
   "pygments_lexer": "ipython3",
   "version": "3.6.5"
  }
 },
 "nbformat": 4,
 "nbformat_minor": 2
}
