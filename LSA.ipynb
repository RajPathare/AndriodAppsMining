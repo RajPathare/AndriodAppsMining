{
 "cells": [
  {
   "cell_type": "code",
   "execution_count": 1,
   "metadata": {},
   "outputs": [],
   "source": [
    "import pandas as pd\n",
    "import nltk\n",
    "from nltk.corpus import stopwords\n",
    "from sklearn.feature_extraction.text import TfidfVectorizer\n",
    "from sklearn.decomposition import TruncatedSVD"
   ]
  },
  {
   "cell_type": "code",
   "execution_count": 38,
   "metadata": {},
   "outputs": [],
   "source": [
    "df = pd.read_csv('dataset/MUSIC_AND_AUDIO.csv',index_col=0)"
   ]
  },
  {
   "cell_type": "code",
   "execution_count": 39,
   "metadata": {},
   "outputs": [
    {
     "data": {
      "text/plain": [
       "248"
      ]
     },
     "execution_count": 39,
     "metadata": {},
     "output_type": "execute_result"
    }
   ],
   "source": [
    "len(df)"
   ]
  },
  {
   "cell_type": "code",
   "execution_count": 40,
   "metadata": {},
   "outputs": [],
   "source": [
    "df=df[df.score<=3.5]"
   ]
  },
  {
   "cell_type": "code",
   "execution_count": 41,
   "metadata": {},
   "outputs": [
    {
     "data": {
      "text/plain": [
       "95"
      ]
     },
     "execution_count": 41,
     "metadata": {},
     "output_type": "execute_result"
    }
   ],
   "source": [
    "len(df)"
   ]
  },
  {
   "cell_type": "code",
   "execution_count": 42,
   "metadata": {},
   "outputs": [],
   "source": [
    "stopset = set(stopwords.words('english'))\n",
    "stopset.update(['/n' ])"
   ]
  },
  {
   "cell_type": "code",
   "execution_count": 43,
   "metadata": {},
   "outputs": [],
   "source": [
    "docs=df['description']"
   ]
  },
  {
   "cell_type": "code",
   "execution_count": 44,
   "metadata": {},
   "outputs": [
    {
     "data": {
      "text/plain": [
       "'The same great metronome as Metronome Beats but with additional features and no adverts!. In addition to a comprehensive metronome and speed trainer, Metronome Beats Pro also has a “Live Mode’ feature which allows you to create setlists of songs and play through these one by one – useful for solo and group practice as well as playing live on stage. You can also set beat and bar counters, and select from a range of different sound types.\\nMetronome Beats Pro is not only useful for practicing and playing musical instruments: people also use it to keep a steady tempo during exercise, golf putting practice, dancing, and many other activities.\\nMetronome Beats is simple to use. On smaller devices set the number of beats per bar and how you’d like the beat subdivided on the Settings screen. When you start the metronome it switches to the Practice screen, with its visual beat indicators. The practice screen has controls for easily increasing and decreasing the tempo in small increments, so you can start slow and build up your speed with one touch of the screen. On larger devices all of these features can be reached on one handy screen using the new Tablet layout.\\nExclusive to Pro version:\\n- no adverts\\n- beat and bar counters\\n- save your settings as presets\\n- organise your favourite songs in to setlists and play through these in “Live” mode\\nFeatures also include:\\n- Select from a range of sound types (wooden claves, traditional tick, cowbell, etc)\\n- Separate layout for larger devices\\n- Select any tempo from 1 to 300 beats per minute.\\n- Don’t know how many beats per minute you need? Then use the tap tempo button to select a tempo.\\n- Displays Italian tempo markings (Allegro, Andante, etc) – handy if you’re not sure how fast Vivace should be.\\n- Change the pitch of the sound to make the metronome easier to hear over your instrument.\\n- Subdivide the beat with up to 8 clicks per beat – so you can practice the timing of your triplets.\\n- Choose whether to accent the first beat of the bar.\\n- Visual beat indication - mute the sound and use the visualisations to follow the beat.\\n- The metronome automatically stops playing when there is an incoming call.\\n- Your settings are saved automatically on exit – so you can carry on where you left off next time you play.\\n- The metronome keeps running when the screen is locked\\n- set the metronome to stop playing after a certain number of bars\\nFor more help with using Metronome Beats, see our blog posts:\\nhttp://stonekick.com/blog/metronome-beats-different-time-signaturebeat-combinations/\\nhttp://stonekick.com/blog/using-a-metronome-to-improve-your-golf/'"
      ]
     },
     "execution_count": 44,
     "metadata": {},
     "output_type": "execute_result"
    }
   ],
   "source": [
    "docs[0]"
   ]
  },
  {
   "cell_type": "code",
   "execution_count": 51,
   "metadata": {},
   "outputs": [],
   "source": [
    "vectorizer = TfidfVectorizer(stop_words=stopset,\n",
    "                                 use_idf=True, ngram_range=(1, 3))\n",
    "X = vectorizer.fit_transform(docs)"
   ]
  },
  {
   "cell_type": "code",
   "execution_count": 52,
   "metadata": {},
   "outputs": [
    {
     "data": {
      "text/plain": [
       "95"
      ]
     },
     "execution_count": 52,
     "metadata": {},
     "output_type": "execute_result"
    }
   ],
   "source": [
    "len(docs)"
   ]
  },
  {
   "cell_type": "code",
   "execution_count": 53,
   "metadata": {},
   "outputs": [
    {
     "data": {
      "text/plain": [
       "<1x34933 sparse matrix of type '<class 'numpy.float64'>'\n",
       "\twith 645 stored elements in Compressed Sparse Row format>"
      ]
     },
     "execution_count": 53,
     "metadata": {},
     "output_type": "execute_result"
    }
   ],
   "source": [
    "X[0]"
   ]
  },
  {
   "cell_type": "code",
   "execution_count": 54,
   "metadata": {},
   "outputs": [
    {
     "data": {
      "text/plain": [
       "(95, 34933)"
      ]
     },
     "execution_count": 54,
     "metadata": {},
     "output_type": "execute_result"
    }
   ],
   "source": [
    "X.shape"
   ]
  },
  {
   "cell_type": "code",
   "execution_count": 55,
   "metadata": {},
   "outputs": [
    {
     "data": {
      "text/plain": [
       "TruncatedSVD(algorithm='randomized', n_components=10, n_iter=500,\n",
       "       random_state=None, tol=0.0)"
      ]
     },
     "execution_count": 55,
     "metadata": {},
     "output_type": "execute_result"
    }
   ],
   "source": [
    "lsa = TruncatedSVD(n_components=10, n_iter=500)\n",
    "lsa.fit(X)"
   ]
  },
  {
   "cell_type": "code",
   "execution_count": 56,
   "metadata": {},
   "outputs": [
    {
     "name": "stdout",
     "output_type": "stream",
     "text": [
      "Concept 0:\n",
      "music\n",
      "player\n",
      "music player\n",
      "mp3\n",
      "free music\n",
      "free\n",
      "songs\n",
      "audio\n",
      "youtube\n",
      "mp3 player\n",
      " \n",
      "Concept 1:\n",
      "radio\n",
      "fm\n",
      "tamil\n",
      "fm radio\n",
      "stations\n",
      "radio stations\n",
      "india\n",
      "tamil radio\n",
      "tamil fm\n",
      "radio india\n",
      " \n",
      "Concept 2:\n",
      "option\n",
      "application\n",
      "media\n",
      "set\n",
      "available\n",
      "set ringtone\n",
      "wallpaper\n",
      "ringtone\n",
      "backward\n",
      "seek bar\n",
      " \n",
      "Concept 3:\n",
      "tanpura\n",
      "lehra\n",
      "tabla\n",
      "app\n",
      "beats\n",
      "practice\n",
      "recordings\n",
      "licks\n",
      "use\n",
      "per\n",
      " \n",
      "Concept 4:\n",
      "books\n",
      "book\n",
      "bookmarks\n",
      "drm\n",
      "drm free\n",
      "refund\n",
      "set custom\n",
      "folder\n",
      "support\n",
      "audio\n",
      " \n",
      "Concept 5:\n",
      "licks\n",
      "blues\n",
      "guitar\n",
      "guitar licks\n",
      "players\n",
      "144\n",
      "chicago\n",
      "lick\n",
      "rockabilly\n",
      "texas\n",
      " \n",
      "Concept 6:\n",
      "tanpura\n",
      "use\n",
      "real tanpura\n",
      "real\n",
      "acoustic tanpura\n",
      "drone\n",
      "drone instrument\n",
      "high fidelity\n",
      "real acoustic\n",
      "real acoustic tanpura\n",
      " \n",
      "Concept 7:\n",
      "harmonium\n",
      "kathak\n",
      "tintal\n",
      "mp3\n",
      "licks\n",
      "recordings\n",
      "tabla\n",
      "progress\n",
      "player\n",
      "alap\n",
      " \n",
      "Concept 8:\n",
      "youtube\n",
      "free music\n",
      "free\n",
      "youtube music\n",
      "music player youtube\n",
      "player youtube\n",
      "music\n",
      "harmonium\n",
      "kathak\n",
      "tintal\n",
      " \n",
      "Concept 9:\n",
      "ringtone\n",
      "button\n",
      "tone\n",
      "alarm notification\n",
      "audio set\n",
      "audio set alarm\n",
      "hd audio\n",
      "hd audio set\n",
      "notification tone set\n",
      "ringtone play\n",
      " \n"
     ]
    }
   ],
   "source": [
    "terms = vectorizer.get_feature_names()\n",
    "for i, comp in enumerate(lsa.components_): \n",
    "    termsInComp = zip (terms,comp)\n",
    "    sortedTerms =  sorted(termsInComp, key=lambda x: x[1], reverse=True) [:10]\n",
    "    print (\"Concept %d:\" % i)\n",
    "    for term in sortedTerms:\n",
    "        print (term[0])\n",
    "    print (\" \")"
   ]
  },
  {
   "cell_type": "code",
   "execution_count": null,
   "metadata": {},
   "outputs": [],
   "source": []
  }
 ],
 "metadata": {
  "kernelspec": {
   "display_name": "Python 3",
   "language": "python",
   "name": "python3"
  },
  "language_info": {
   "codemirror_mode": {
    "name": "ipython",
    "version": 3
   },
   "file_extension": ".py",
   "mimetype": "text/x-python",
   "name": "python",
   "nbconvert_exporter": "python",
   "pygments_lexer": "ipython3",
   "version": "3.6.5"
  }
 },
 "nbformat": 4,
 "nbformat_minor": 2
}
