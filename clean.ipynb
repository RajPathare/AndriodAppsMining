{
 "cells": [
  {
   "cell_type": "code",
   "execution_count": null,
   "metadata": {},
   "outputs": [],
   "source": [
    "import pandas as pd\n",
    "import numpy as np\n",
    "import spacy\n",
    "import re\n",
    "import string\n",
    "\n",
    "#load reviews data\n",
    "reviews = pd.read_csv('dataset/education.csv')\n",
    "#extract only reviews\n",
    "comments = reviews['description']\n",
    "comments = comments.astype('str')\n",
    "\n",
    "#function to remove non-ascii characters\n",
    "def _removeNonAscii(s): return \"\".join(i for i in s if ord(i)<128)\n",
    "#remove non-ascii characters\n",
    "comments = comments.map(lambda x: _removeNonAscii(x))\n",
    "\n",
    "#get stop words of all languages\n",
    "STOPWORDS_DICT = {lang: set(nltk.corpus.stopwords.words(lang)) for lang in nltk.corpus.stopwords.fileids()}\n",
    "#function to detect language based on # of stop words for particular language\n",
    "def get_language(text):\n",
    "    words = set(nltk.wordpunct_tokenize(text.lower()))\n",
    "    lang = max(((lang, len(words & stopwords)) for lang, stopwords in STOPWORDS_DICT.items()), key = lambda x: x[1])[0]\n",
    "    if lang == 'english':\n",
    "        return True\n",
    "    else:\n",
    "        return False\n",
    "#filter for only english comments\n",
    "eng_comments=comments[comments.apply(get_language)]\n",
    "\n",
    "#drop duplicates\n",
    "eng_comments.drop_duplicates(inplace=True)\n",
    "\n",
    "#load spacy\n",
    "nlp = spacy.load('en')\n",
    "\n",
    "#function to clean and lemmatize comments\n",
    "def clean_comments(text):\n",
    "    #remove punctuations\n",
    "    regex = re.compile('[' + re.escape(string.punctuation) + '\\\\r\\\\t\\\\n]')\n",
    "    nopunct = regex.sub(\" \", str(text))\n",
    "    #use spacy to lemmatize comments\n",
    "    doc = nlp(nopunct, disable=['parser','ner'])\n",
    "    lemma = [token.lemma_ for token in doc]\n",
    "    return lemma\n",
    "\n",
    "#apply function to clean and lemmatize comments\n",
    "lemmatized = eng_comments.map(clean_comments)\n",
    "\n",
    "#make sure to lowercase everything\n",
    "lemmatized = lemmatized.map(lambda x: [word.lower() for word in x])\n",
    "\n",
    "#turn all comments' tokens into one single list\n",
    "unlist_comments = [item for items in lemmatized for item in items]"
   ]
  }
 ],
 "metadata": {
  "kernelspec": {
   "display_name": "Python 3",
   "language": "python",
   "name": "python3"
  },
  "language_info": {
   "codemirror_mode": {
    "name": "ipython",
    "version": 3
   },
   "file_extension": ".py",
   "mimetype": "text/x-python",
   "name": "python",
   "nbconvert_exporter": "python",
   "pygments_lexer": "ipython3",
   "version": "3.6.5"
  }
 },
 "nbformat": 4,
 "nbformat_minor": 2
}
