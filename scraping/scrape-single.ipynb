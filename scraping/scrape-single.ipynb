{
 "cells": [
  {
   "cell_type": "code",
   "execution_count": 47,
   "metadata": {},
   "outputs": [],
   "source": [
    "import play_scraper"
   ]
  },
  {
   "cell_type": "code",
   "execution_count": 48,
   "metadata": {},
   "outputs": [],
   "source": [
    "data=play_scraper.details('com.android.chrome')"
   ]
  },
  {
   "cell_type": "code",
   "execution_count": 49,
   "metadata": {},
   "outputs": [
    {
     "name": "stdout",
     "output_type": "stream",
     "text": [
      "{'title': 'Google Chrome: Fast & Secure', 'icon': 'https://lh3.googleusercontent.com/nYhPnY2I-e9rpqnid9u9aAODz4C04OycEGxqHG5vxFnA35OGmLMrrUmhM9eaHKJ7liB-', 'screenshots': ['https://lh3.googleusercontent.com/Usyjx1hHMLBCkpIpr56I74F1wYVncbZFTctqkDDgzfj1ABhCGu0GCg7pHwbyL-xhSV4=w720-h310-rw', 'https://lh3.googleusercontent.com/MDUDkVeS3rAZ-CeNSAlMM94iQAxCJbthTNK7675leCrIQ3cZ5uVAxrXRRsqanJUHog=w720-h310-rw', 'https://lh3.googleusercontent.com/1zCSNxsXTqTtLngNTwZ50q0Llr4CUQhZuzO1hRgJ20MojwrwRERoViQwmkhJI9ajV4o=w720-h310-rw', 'https://lh3.googleusercontent.com/nWUj9MGoBUHVwtcohc9hoabAl74ALNDMjaIFQJ5FxW42q3rfqJDceMgy2gXidoNpiAY9=w720-h310-rw', 'https://lh3.googleusercontent.com/JfB5YHoy2Eitr_uC5Cwuc0iUN9F7QWoFmOqGgLV3mS7gLKyqS9cZPK888X6paFAy7mU=w720-h310-rw', 'https://lh3.googleusercontent.com/eyazGDah1Bfv1TTX6LDotpkEs-XgCdrH4BFIGM3e-PGFV_JsqI6Ufnsfg4hPB9AmXWTd=w720-h310-rw'], 'video': None, 'category': ['COMMUNICATION'], 'score': '4.3', 'histogram': {5: 6490307, 4: 1642819, 3: 779326, 2: 303355, 1: 719888}, 'reviews': 9935695, 'description': 'Google Chrome is a fast, easy to use, and secure web browser. Designed for Android, Chrome brings you personalized news articles, quick links to your favorite sites, downloads, and Google Search and Google Translate built-in. Download now to enjoy the same Chrome web browser experience you love across all your devices.\\nBrowse fast and type less.\\nChoose from personalized search results that instantly appear as you type and quickly browse previously visited web pages. Fill in forms quickly with Autofill.\\nIncognito Browsing.\\nUse Incognito mode to browse the internet without saving your history. Browse privately across all your devices.\\nSync Chrome Across Devices.\\nWhen you sign into Chrome, your bookmarks, passwords, and settings will be automatically synced across all your devices. You can seamlessly access all your information from your phone, tablet, or laptop.\\nAll your favorite content, one tap away.\\nChrome is not just fast for Google Search, but designed so you are one tap away from all your favorite content. You can tap on your favorite news sites or social media directly from the new tab page. Chrome also has the “Tap to Search”- feature on most webpages. You can tap on any word or phrase to start a Google search while still in the page you are enjoying.\\nProtect your phone with Google Safe Browsing.\\nChrome has Google Safe Browsing built-in. It keeps your phone safe by showing warnings to you when you attempt to navigate to dangerous sites or download dangerous files.\\nFast downloads and view web pages and videos offline\\nChrome has a dedicated download button, so you can easily download videos, pictures, and entire webpages with just one tap. Chrome also has downloads home right inside Chrome, where you can access all the content you downloaded, even when you are offline.\\nGoogle Voice Search.\\nChrome gives you an actual web browser you can talk to. Use your voice to find answers on-the-go without typing and go hands free. You can browse and navigate quicker using your voice anywhere, anytime.\\nGoogle Translate built-in: Quickly translate entire web pages.\\nChrome has Google Translate built in to help you to translate entire web to your own language with one tap.\\nSave Mobile Data.\\nTurn on Chrome’s Data Saver to browse and navigate the web while using less data. Save up to 60% of data as Chrome compresses text, images, videos and websites without lowering the quality.\\nSmart personalized recommendations.\\nChrome creates an experience that is tailored to your interests.  On the new tab page, you will find articles that Chrome selected based on your previous browsing history.', 'description_html': b'Google Chrome is a fast, easy to use, and secure web browser. Designed for Android, Chrome brings you personalized news articles, quick links to your favorite sites, downloads, and Google Search and Google Translate built-in. Download now to enjoy the same Chrome web browser experience you love across all your devices.<br/> <br/> <b>Browse fast and type less.</b> Choose from personalized search results that instantly appear as you type and quickly browse previously visited web pages. Fill in forms quickly with Autofill.<br/> <br/> <b>Incognito Browsing.</b> Use Incognito mode to browse the internet without saving your history. Browse privately across all your devices.<br/> <br/> <b>Sync Chrome Across Devices.</b> When you sign into Chrome, your bookmarks, passwords, and settings will be automatically synced across all your devices. You can seamlessly access all your information from your phone, tablet, or laptop.<br/> <br/> <b>All your favorite content, one tap away.</b> Chrome is not just fast for Google Search, but designed so you are one tap away from all your favorite content. You can tap on your favorite news sites or social media directly from the new tab page. Chrome also has the \\xe2\\x80\\x9cTap to Search\\xe2\\x80\\x9d- feature on most webpages. You can tap on any word or phrase to start a Google search while still in the page you are enjoying.<br/> <br/> <b>Protect your phone with Google Safe Browsing.</b> Chrome has Google Safe Browsing built-in. It keeps your phone safe by showing warnings to you when you attempt to navigate to dangerous sites or download dangerous files.<br/> <br/> <b>Fast downloads and view web pages and videos offline</b> Chrome has a dedicated download button, so you can easily download videos, pictures, and entire webpages with just one tap. Chrome also has downloads home right inside Chrome, where you can access all the content you downloaded, even when you are offline.<br/> <br/> <b>Google Voice Search.</b> Chrome gives you an actual web browser you can talk to. Use your voice to find answers on-the-go without typing and go hands free. You can browse and navigate quicker using your voice anywhere, anytime.<br/> <br/> <b>Google Translate built-in: Quickly translate entire web pages.</b> Chrome has Google Translate built in to help you to translate entire web to your own language with one tap.<br/> <br/> <b>Save Mobile Data.</b> Turn on Chrome\\xe2\\x80\\x99s Data Saver to browse and navigate the web while using less data. Save up to 60% of data as Chrome compresses text, images, videos and websites without lowering the quality.<br/> <br/> <b>Smart personalized recommendations.</b> Chrome creates an experience that is tailored to your interests.  On the new tab page, you will find articles that Chrome selected based on your previous browsing history.', 'recent_changes': None, 'editors_choice': False, 'price': '0', 'free': True, 'iap': False, 'developer_id': '5700313618786177705', 'updated': 'September 18, 2018', 'size': 'Varies with device', 'installs': '1,000,000,000+', 'current_version': 'Varies with device', 'required_android_version': 'Varies with device', 'content_rating': ['Everyone'], 'iap_range': None, 'interactive_elements': ['Unrestricted Internet'], 'developer': 'Google LLC', 'developer_email': 'apps-help@google.com', 'developer_url': 'http://www.google.com/chrome/android', 'developer_address': '1600 Amphitheatre Parkway, Mountain View 94043', 'app_id': 'com.android.chrome', 'url': 'https://play.google.com/store/apps/details?id=com.android.chrome'}\n"
     ]
    }
   ],
   "source": [
    "print(data)"
   ]
  },
  {
   "cell_type": "code",
   "execution_count": 50,
   "metadata": {},
   "outputs": [
    {
     "name": "stdout",
     "output_type": "stream",
     "text": [
      "Google Chrome: Fast & Secure\n"
     ]
    }
   ],
   "source": [
    "print(data['title'])\n",
    "data['installs']=re.sub('[^A-Za-z0-9]+', '', data['installs'])\n",
    "data['installs']=int(data['installs'])\n",
    "data['screenshots']=len(data['screenshots'])"
   ]
  },
  {
   "cell_type": "code",
   "execution_count": 51,
   "metadata": {},
   "outputs": [],
   "source": [
    "import csv"
   ]
  },
  {
   "cell_type": "code",
   "execution_count": 52,
   "metadata": {},
   "outputs": [],
   "source": [
    "keys = data.keys()"
   ]
  },
  {
   "cell_type": "code",
   "execution_count": 53,
   "metadata": {},
   "outputs": [],
   "source": [
    "with open('newdb.csv', 'a',newline='',encoding='utf-8') as output_file:\n",
    "    dict_writer = csv.DictWriter(output_file, keys)\n",
    "    dict_writer.writeheader()\n",
    "    dict_writer.writerow(data)"
   ]
  },
  {
   "cell_type": "code",
   "execution_count": 54,
   "metadata": {},
   "outputs": [],
   "source": [
    "data=play_scraper.details('com.notdoppler.earntodie2')\n",
    "data['installs']=re.sub('[^A-Za-z0-9]+', '', data['installs'])\n",
    "data['installs']=int(data['installs'])\n",
    "data['screenshots']=len(data['screenshots'])"
   ]
  },
  {
   "cell_type": "code",
   "execution_count": 55,
   "metadata": {},
   "outputs": [],
   "source": [
    "with open('newdb.csv', 'a',newline='',encoding='utf-8') as output_file:\n",
    "    dict_writer = csv.DictWriter(output_file, keys)\n",
    "    \n",
    "    dict_writer.writerow(data)"
   ]
  },
  {
   "cell_type": "code",
   "execution_count": 56,
   "metadata": {},
   "outputs": [],
   "source": [
    "import pandas as pd"
   ]
  },
  {
   "cell_type": "code",
   "execution_count": 57,
   "metadata": {},
   "outputs": [],
   "source": [
    "df=pd.read_csv(\"newdb.csv\",encoding='utf-8',skipinitialspace=True)"
   ]
  },
  {
   "cell_type": "code",
   "execution_count": 58,
   "metadata": {},
   "outputs": [
    {
     "data": {
      "text/plain": [
       "0    Google Chrome: Fast & Secure\n",
       "1                   Earn to Die 2\n",
       "Name: title, dtype: object"
      ]
     },
     "execution_count": 58,
     "metadata": {},
     "output_type": "execute_result"
    }
   ],
   "source": [
    "df['title']"
   ]
  },
  {
   "cell_type": "code",
   "execution_count": 59,
   "metadata": {},
   "outputs": [
    {
     "data": {
      "text/plain": [
       "0    0\n",
       "1    0\n",
       "Name: price, dtype: int64"
      ]
     },
     "execution_count": 59,
     "metadata": {},
     "output_type": "execute_result"
    }
   ],
   "source": [
    "df['price']"
   ]
  },
  {
   "cell_type": "code",
   "execution_count": 60,
   "metadata": {},
   "outputs": [],
   "source": [
    "data=play_scraper.developer('Google LLC', results=5)"
   ]
  },
  {
   "cell_type": "code",
   "execution_count": 61,
   "metadata": {},
   "outputs": [
    {
     "name": "stdout",
     "output_type": "stream",
     "text": [
      "com.google.android.apps.youtube.music\n"
     ]
    }
   ],
   "source": [
    "print(data[0]['app_id'])"
   ]
  },
  {
   "cell_type": "code",
   "execution_count": 62,
   "metadata": {},
   "outputs": [],
   "source": [
    "f=data[0]"
   ]
  },
  {
   "cell_type": "code",
   "execution_count": 63,
   "metadata": {},
   "outputs": [
    {
     "name": "stdout",
     "output_type": "stream",
     "text": [
      "com.google.android.apps.youtube.music\n"
     ]
    }
   ],
   "source": [
    "print(f['app_id'])"
   ]
  },
  {
   "cell_type": "code",
   "execution_count": 64,
   "metadata": {},
   "outputs": [
    {
     "name": "stdout",
     "output_type": "stream",
     "text": [
      "5\n"
     ]
    }
   ],
   "source": [
    "print(len(data))"
   ]
  },
  {
   "cell_type": "code",
   "execution_count": 65,
   "metadata": {},
   "outputs": [
    {
     "name": "stdout",
     "output_type": "stream",
     "text": [
      "com.google.android.apps.youtube.music\n",
      "com.google.android.play.games\n",
      "com.google.android.apps.translate\n",
      "com.google.android.apps.docs.editors.docs\n",
      "com.google.android.projection.gearhead\n"
     ]
    }
   ],
   "source": [
    "for x in data:\n",
    "    print(x['app_id'])\n",
    "    data=play_scraper.details(x['app_id'])\n",
    "    data['installs']=re.sub('[^A-Za-z0-9]+', '', data['installs'])\n",
    "    data['installs']=int(data['installs'])\n",
    "    data['screenshots']=len(data['screenshots'])\n",
    "    with open('newdb.csv', 'a',newline='',encoding='utf-8') as output_file:\n",
    "        dict_writer = csv.DictWriter(output_file, keys)\n",
    "        dict_writer.writerow(data)"
   ]
  },
  {
   "cell_type": "code",
   "execution_count": 66,
   "metadata": {},
   "outputs": [],
   "source": [
    "df=pd.read_csv(\"newdb.csv\",encoding='utf-8',skipinitialspace=True)"
   ]
  },
  {
   "cell_type": "code",
   "execution_count": 67,
   "metadata": {},
   "outputs": [
    {
     "name": "stdout",
     "output_type": "stream",
     "text": [
      "0    0\n",
      "1    0\n",
      "2    0\n",
      "3    0\n",
      "4    0\n",
      "5    0\n",
      "6    0\n",
      "Name: price, dtype: int64 0                     Google Chrome: Fast & Secure\n",
      "1                                    Earn to Die 2\n",
      "2                                    YouTube Music\n",
      "3                                Google Play Games\n",
      "4                                 Google Translate\n",
      "5                                      Google Docs\n",
      "6    Android Auto - Google Maps, Media & Messaging\n",
      "Name: title, dtype: object\n"
     ]
    }
   ],
   "source": [
    "print(df['price'],df['title'])"
   ]
  },
  {
   "cell_type": "code",
   "execution_count": 38,
   "metadata": {},
   "outputs": [
    {
     "data": {
      "text/plain": [
       "nan"
      ]
     },
     "execution_count": 38,
     "metadata": {},
     "output_type": "execute_result"
    }
   ],
   "source": [
    "df['price'].corr(df['reviews'])"
   ]
  },
  {
   "cell_type": "code",
   "execution_count": 68,
   "metadata": {},
   "outputs": [
    {
     "data": {
      "text/plain": [
       "title                        object\n",
       "icon                         object\n",
       "screenshots                   int64\n",
       "video                        object\n",
       "category                     object\n",
       "score                       float64\n",
       "histogram                    object\n",
       "reviews                       int64\n",
       "description                  object\n",
       "description_html             object\n",
       "recent_changes               object\n",
       "editors_choice                 bool\n",
       "price                         int64\n",
       "free                           bool\n",
       "iap                            bool\n",
       "developer_id                  int64\n",
       "updated                      object\n",
       "size                         object\n",
       "installs                      int64\n",
       "current_version              object\n",
       "required_android_version     object\n",
       "content_rating               object\n",
       "iap_range                    object\n",
       "interactive_elements         object\n",
       "developer                    object\n",
       "developer_email              object\n",
       "developer_url                object\n",
       "developer_address            object\n",
       "app_id                       object\n",
       "url                          object\n",
       "dtype: object"
      ]
     },
     "execution_count": 68,
     "metadata": {},
     "output_type": "execute_result"
    }
   ],
   "source": [
    "df.dtypes"
   ]
  },
  {
   "cell_type": "code",
   "execution_count": 3,
   "metadata": {},
   "outputs": [],
   "source": [
    "data=play_scraper.details('com.android.chrome')"
   ]
  },
  {
   "cell_type": "code",
   "execution_count": 4,
   "metadata": {},
   "outputs": [
    {
     "data": {
      "text/plain": [
       "'1,000,000,000+'"
      ]
     },
     "execution_count": 4,
     "metadata": {},
     "output_type": "execute_result"
    }
   ],
   "source": [
    "data['installs']"
   ]
  },
  {
   "cell_type": "code",
   "execution_count": 5,
   "metadata": {},
   "outputs": [
    {
     "ename": "NameError",
     "evalue": "name 're' is not defined",
     "output_type": "error",
     "traceback": [
      "\u001b[1;31m---------------------------------------------------------------------------\u001b[0m",
      "\u001b[1;31mNameError\u001b[0m                                 Traceback (most recent call last)",
      "\u001b[1;32m<ipython-input-5-8df79a838a79>\u001b[0m in \u001b[0;36m<module>\u001b[1;34m()\u001b[0m\n\u001b[1;32m----> 1\u001b[1;33m \u001b[0mre\u001b[0m\u001b[1;33m.\u001b[0m\u001b[0msub\u001b[0m\u001b[1;33m(\u001b[0m\u001b[1;34m'[^A-Za-z0-9]+'\u001b[0m\u001b[1;33m,\u001b[0m \u001b[1;34m''\u001b[0m\u001b[1;33m,\u001b[0m \u001b[0mdata\u001b[0m\u001b[1;33m[\u001b[0m\u001b[1;34m'installs'\u001b[0m\u001b[1;33m]\u001b[0m\u001b[1;33m)\u001b[0m\u001b[1;33m\u001b[0m\u001b[0m\n\u001b[0m",
      "\u001b[1;31mNameError\u001b[0m: name 're' is not defined"
     ]
    }
   ],
   "source": [
    "re.sub('[^A-Za-z0-9]+', '', data['installs'])"
   ]
  },
  {
   "cell_type": "code",
   "execution_count": 6,
   "metadata": {},
   "outputs": [],
   "source": [
    "import re"
   ]
  },
  {
   "cell_type": "code",
   "execution_count": 10,
   "metadata": {},
   "outputs": [],
   "source": [
    "data['installs']=re.sub('[^A-Za-z0-9]+', '', data['installs'])\n",
    "data['installs']=int(data['installs'])"
   ]
  },
  {
   "cell_type": "code",
   "execution_count": 11,
   "metadata": {},
   "outputs": [
    {
     "data": {
      "text/plain": [
       "str"
      ]
     },
     "execution_count": 11,
     "metadata": {},
     "output_type": "execute_result"
    }
   ],
   "source": [
    "type(data['installs'])"
   ]
  },
  {
   "cell_type": "code",
   "execution_count": 12,
   "metadata": {},
   "outputs": [
    {
     "data": {
      "text/plain": [
       "'1000000000'"
      ]
     },
     "execution_count": 12,
     "metadata": {},
     "output_type": "execute_result"
    }
   ],
   "source": [
    "data['installs']"
   ]
  },
  {
   "cell_type": "code",
   "execution_count": 13,
   "metadata": {},
   "outputs": [
    {
     "data": {
      "text/plain": [
       "str"
      ]
     },
     "execution_count": 13,
     "metadata": {},
     "output_type": "execute_result"
    }
   ],
   "source": [
    "type(data['installs'])"
   ]
  },
  {
   "cell_type": "code",
   "execution_count": 16,
   "metadata": {},
   "outputs": [],
   "source": [
    "data['installs']=int(data['installs'])"
   ]
  },
  {
   "cell_type": "code",
   "execution_count": 17,
   "metadata": {},
   "outputs": [
    {
     "data": {
      "text/plain": [
       "int"
      ]
     },
     "execution_count": 17,
     "metadata": {},
     "output_type": "execute_result"
    }
   ],
   "source": [
    "type(data['installs'])"
   ]
  },
  {
   "cell_type": "code",
   "execution_count": 42,
   "metadata": {},
   "outputs": [
    {
     "data": {
      "text/plain": [
       "list"
      ]
     },
     "execution_count": 42,
     "metadata": {},
     "output_type": "execute_result"
    }
   ],
   "source": [
    "type(data['screenshots'])\n"
   ]
  },
  {
   "cell_type": "code",
   "execution_count": 44,
   "metadata": {},
   "outputs": [],
   "source": [
    "data['screenshots']=len(data['screenshots'])"
   ]
  },
  {
   "cell_type": "code",
   "execution_count": 45,
   "metadata": {},
   "outputs": [
    {
     "data": {
      "text/plain": [
       "int"
      ]
     },
     "execution_count": 45,
     "metadata": {},
     "output_type": "execute_result"
    }
   ],
   "source": [
    "type(data['screenshots'])"
   ]
  },
  {
   "cell_type": "code",
   "execution_count": 71,
   "metadata": {},
   "outputs": [
    {
     "data": {
      "text/plain": [
       "0.60817805458195"
      ]
     },
     "execution_count": 71,
     "metadata": {},
     "output_type": "execute_result"
    }
   ],
   "source": [
    "df['iap'].corr(df['screenshots'])"
   ]
  },
  {
   "cell_type": "code",
   "execution_count": 72,
   "metadata": {},
   "outputs": [
    {
     "data": {
      "text/html": [
       "<div>\n",
       "<style scoped>\n",
       "    .dataframe tbody tr th:only-of-type {\n",
       "        vertical-align: middle;\n",
       "    }\n",
       "\n",
       "    .dataframe tbody tr th {\n",
       "        vertical-align: top;\n",
       "    }\n",
       "\n",
       "    .dataframe thead th {\n",
       "        text-align: right;\n",
       "    }\n",
       "</style>\n",
       "<table border=\"1\" class=\"dataframe\">\n",
       "  <thead>\n",
       "    <tr style=\"text-align: right;\">\n",
       "      <th></th>\n",
       "      <th>title</th>\n",
       "      <th>icon</th>\n",
       "      <th>screenshots</th>\n",
       "      <th>video</th>\n",
       "      <th>category</th>\n",
       "      <th>score</th>\n",
       "      <th>histogram</th>\n",
       "      <th>reviews</th>\n",
       "      <th>description</th>\n",
       "      <th>description_html</th>\n",
       "      <th>...</th>\n",
       "      <th>required_android_version</th>\n",
       "      <th>content_rating</th>\n",
       "      <th>iap_range</th>\n",
       "      <th>interactive_elements</th>\n",
       "      <th>developer</th>\n",
       "      <th>developer_email</th>\n",
       "      <th>developer_url</th>\n",
       "      <th>developer_address</th>\n",
       "      <th>app_id</th>\n",
       "      <th>url</th>\n",
       "    </tr>\n",
       "  </thead>\n",
       "  <tbody>\n",
       "    <tr>\n",
       "      <th>0</th>\n",
       "      <td>Google Chrome: Fast &amp; Secure</td>\n",
       "      <td>https://lh3.googleusercontent.com/nYhPnY2I-e9r...</td>\n",
       "      <td>6</td>\n",
       "      <td>NaN</td>\n",
       "      <td>['COMMUNICATION']</td>\n",
       "      <td>4.3</td>\n",
       "      <td>{5: 6490307, 4: 1642819, 3: 779326, 2: 303355,...</td>\n",
       "      <td>9935695</td>\n",
       "      <td>Google Chrome is a fast, easy to use, and secu...</td>\n",
       "      <td>b'Google Chrome is a fast, easy to use, and se...</td>\n",
       "      <td>...</td>\n",
       "      <td>Varies with device</td>\n",
       "      <td>['Everyone']</td>\n",
       "      <td>NaN</td>\n",
       "      <td>['Unrestricted Internet']</td>\n",
       "      <td>Google LLC</td>\n",
       "      <td>apps-help@google.com</td>\n",
       "      <td>http://www.google.com/chrome/android</td>\n",
       "      <td>1600 Amphitheatre Parkway, Mountain View 94043</td>\n",
       "      <td>com.android.chrome</td>\n",
       "      <td>https://play.google.com/store/apps/details?id=...</td>\n",
       "    </tr>\n",
       "    <tr>\n",
       "      <th>1</th>\n",
       "      <td>Earn to Die 2</td>\n",
       "      <td>https://lh3.googleusercontent.com/PeYxYz56AltC...</td>\n",
       "      <td>18</td>\n",
       "      <td>https://www.youtube.com/embed/vIZ7s_GYNiE</td>\n",
       "      <td>['GAME_RACING']</td>\n",
       "      <td>4.6</td>\n",
       "      <td>{5: 1098832, 4: 141418, 3: 51966, 2: 18416, 1:...</td>\n",
       "      <td>1359236</td>\n",
       "      <td>Drive your car through a zombie apocalypse in ...</td>\n",
       "      <td>b\"Drive your car through a zombie apocalypse i...</td>\n",
       "      <td>...</td>\n",
       "      <td>2.3.3 and up</td>\n",
       "      <td>['Teen', 'Violence, Blood']</td>\n",
       "      <td>('$0.99', '$5.99')</td>\n",
       "      <td>['Digital Purchases']</td>\n",
       "      <td>Not Doppler</td>\n",
       "      <td>android.support@notdoppler.com</td>\n",
       "      <td>http://www.notdoppler.com/earntodie2</td>\n",
       "      <td>Suite 1106, Level 11, 250 Pitt Street, Sydney,...</td>\n",
       "      <td>com.notdoppler.earntodie2</td>\n",
       "      <td>https://play.google.com/store/apps/details?id=...</td>\n",
       "    </tr>\n",
       "    <tr>\n",
       "      <th>2</th>\n",
       "      <td>YouTube Music</td>\n",
       "      <td>https://lh3.googleusercontent.com/PyHp7h1ae6xI...</td>\n",
       "      <td>15</td>\n",
       "      <td>NaN</td>\n",
       "      <td>['MUSIC_AND_AUDIO']</td>\n",
       "      <td>4.2</td>\n",
       "      <td>{5: 271280, 4: 49573, 3: 25623, 2: 12454, 1: 4...</td>\n",
       "      <td>402084</td>\n",
       "      <td>YouTube Music is a new music app that allows y...</td>\n",
       "      <td>b'YouTube Music is a new music app that allows...</td>\n",
       "      <td>...</td>\n",
       "      <td>Varies with device</td>\n",
       "      <td>['Teen']</td>\n",
       "      <td>NaN</td>\n",
       "      <td>['Users Interact, Digital Purchases']</td>\n",
       "      <td>Google LLC</td>\n",
       "      <td>ytmusic-support@google.com</td>\n",
       "      <td>https://music.youtube.com</td>\n",
       "      <td>1600 Amphitheatre Parkway, Mountain View 94043</td>\n",
       "      <td>com.google.android.apps.youtube.music</td>\n",
       "      <td>https://play.google.com/store/apps/details?id=...</td>\n",
       "    </tr>\n",
       "    <tr>\n",
       "      <th>3</th>\n",
       "      <td>Google Play Games</td>\n",
       "      <td>https://lh3.googleusercontent.com/UFJL7ni5i_F8...</td>\n",
       "      <td>10</td>\n",
       "      <td>https://www.youtube.com/embed/dL0mW81gxRo</td>\n",
       "      <td>['ENTERTAINMENT']</td>\n",
       "      <td>4.3</td>\n",
       "      <td>{5: 5095229, 4: 835616, 3: 516775, 2: 207191, ...</td>\n",
       "      <td>7380481</td>\n",
       "      <td>Games are more fun with the Google Play Games ...</td>\n",
       "      <td>b\"Games are more fun with the Google Play Game...</td>\n",
       "      <td>...</td>\n",
       "      <td>Varies with device</td>\n",
       "      <td>['Teen']</td>\n",
       "      <td>NaN</td>\n",
       "      <td>['Users Interact']</td>\n",
       "      <td>Google LLC</td>\n",
       "      <td>apps-help@google.com</td>\n",
       "      <td>http://play.google.com/store/apps/category/GAME</td>\n",
       "      <td>1600 Amphitheatre Parkway, Mountain View 94043</td>\n",
       "      <td>com.google.android.play.games</td>\n",
       "      <td>https://play.google.com/store/apps/details?id=...</td>\n",
       "    </tr>\n",
       "    <tr>\n",
       "      <th>4</th>\n",
       "      <td>Google Translate</td>\n",
       "      <td>https://lh3.googleusercontent.com/ZrNeuKthBirZ...</td>\n",
       "      <td>15</td>\n",
       "      <td>NaN</td>\n",
       "      <td>['TOOLS']</td>\n",
       "      <td>4.4</td>\n",
       "      <td>{5: 4023360, 4: 930424, 3: 413165, 2: 171852, ...</td>\n",
       "      <td>5830070</td>\n",
       "      <td>• Translate between 103 languages by typing\\n•...</td>\n",
       "      <td>b'\\xe2\\x80\\xa2 Translate between 103 languages...</td>\n",
       "      <td>...</td>\n",
       "      <td>Varies with device</td>\n",
       "      <td>['Everyone']</td>\n",
       "      <td>NaN</td>\n",
       "      <td>NaN</td>\n",
       "      <td>Google LLC</td>\n",
       "      <td>translate-android-support@google.com</td>\n",
       "      <td>http://support.google.com/translate</td>\n",
       "      <td>1600 Amphitheatre Parkway, Mountain View 94043</td>\n",
       "      <td>com.google.android.apps.translate</td>\n",
       "      <td>https://play.google.com/store/apps/details?id=...</td>\n",
       "    </tr>\n",
       "  </tbody>\n",
       "</table>\n",
       "<p>5 rows × 30 columns</p>\n",
       "</div>"
      ],
      "text/plain": [
       "                          title  \\\n",
       "0  Google Chrome: Fast & Secure   \n",
       "1                 Earn to Die 2   \n",
       "2                 YouTube Music   \n",
       "3             Google Play Games   \n",
       "4              Google Translate   \n",
       "\n",
       "                                                icon  screenshots  \\\n",
       "0  https://lh3.googleusercontent.com/nYhPnY2I-e9r...            6   \n",
       "1  https://lh3.googleusercontent.com/PeYxYz56AltC...           18   \n",
       "2  https://lh3.googleusercontent.com/PyHp7h1ae6xI...           15   \n",
       "3  https://lh3.googleusercontent.com/UFJL7ni5i_F8...           10   \n",
       "4  https://lh3.googleusercontent.com/ZrNeuKthBirZ...           15   \n",
       "\n",
       "                                       video             category  score  \\\n",
       "0                                        NaN    ['COMMUNICATION']    4.3   \n",
       "1  https://www.youtube.com/embed/vIZ7s_GYNiE      ['GAME_RACING']    4.6   \n",
       "2                                        NaN  ['MUSIC_AND_AUDIO']    4.2   \n",
       "3  https://www.youtube.com/embed/dL0mW81gxRo    ['ENTERTAINMENT']    4.3   \n",
       "4                                        NaN            ['TOOLS']    4.4   \n",
       "\n",
       "                                           histogram  reviews  \\\n",
       "0  {5: 6490307, 4: 1642819, 3: 779326, 2: 303355,...  9935695   \n",
       "1  {5: 1098832, 4: 141418, 3: 51966, 2: 18416, 1:...  1359236   \n",
       "2  {5: 271280, 4: 49573, 3: 25623, 2: 12454, 1: 4...   402084   \n",
       "3  {5: 5095229, 4: 835616, 3: 516775, 2: 207191, ...  7380481   \n",
       "4  {5: 4023360, 4: 930424, 3: 413165, 2: 171852, ...  5830070   \n",
       "\n",
       "                                         description  \\\n",
       "0  Google Chrome is a fast, easy to use, and secu...   \n",
       "1  Drive your car through a zombie apocalypse in ...   \n",
       "2  YouTube Music is a new music app that allows y...   \n",
       "3  Games are more fun with the Google Play Games ...   \n",
       "4  • Translate between 103 languages by typing\\n•...   \n",
       "\n",
       "                                    description_html  \\\n",
       "0  b'Google Chrome is a fast, easy to use, and se...   \n",
       "1  b\"Drive your car through a zombie apocalypse i...   \n",
       "2  b'YouTube Music is a new music app that allows...   \n",
       "3  b\"Games are more fun with the Google Play Game...   \n",
       "4  b'\\xe2\\x80\\xa2 Translate between 103 languages...   \n",
       "\n",
       "                         ...                         required_android_version  \\\n",
       "0                        ...                               Varies with device   \n",
       "1                        ...                                     2.3.3 and up   \n",
       "2                        ...                               Varies with device   \n",
       "3                        ...                               Varies with device   \n",
       "4                        ...                               Varies with device   \n",
       "\n",
       "                content_rating           iap_range  \\\n",
       "0                 ['Everyone']                 NaN   \n",
       "1  ['Teen', 'Violence, Blood']  ('$0.99', '$5.99')   \n",
       "2                     ['Teen']                 NaN   \n",
       "3                     ['Teen']                 NaN   \n",
       "4                 ['Everyone']                 NaN   \n",
       "\n",
       "                    interactive_elements    developer  \\\n",
       "0              ['Unrestricted Internet']   Google LLC   \n",
       "1                  ['Digital Purchases']  Not Doppler   \n",
       "2  ['Users Interact, Digital Purchases']   Google LLC   \n",
       "3                     ['Users Interact']   Google LLC   \n",
       "4                                    NaN   Google LLC   \n",
       "\n",
       "                        developer_email  \\\n",
       "0                  apps-help@google.com   \n",
       "1        android.support@notdoppler.com   \n",
       "2            ytmusic-support@google.com   \n",
       "3                  apps-help@google.com   \n",
       "4  translate-android-support@google.com   \n",
       "\n",
       "                                     developer_url  \\\n",
       "0             http://www.google.com/chrome/android   \n",
       "1             http://www.notdoppler.com/earntodie2   \n",
       "2                        https://music.youtube.com   \n",
       "3  http://play.google.com/store/apps/category/GAME   \n",
       "4              http://support.google.com/translate   \n",
       "\n",
       "                                   developer_address  \\\n",
       "0     1600 Amphitheatre Parkway, Mountain View 94043   \n",
       "1  Suite 1106, Level 11, 250 Pitt Street, Sydney,...   \n",
       "2     1600 Amphitheatre Parkway, Mountain View 94043   \n",
       "3     1600 Amphitheatre Parkway, Mountain View 94043   \n",
       "4     1600 Amphitheatre Parkway, Mountain View 94043   \n",
       "\n",
       "                                  app_id  \\\n",
       "0                     com.android.chrome   \n",
       "1              com.notdoppler.earntodie2   \n",
       "2  com.google.android.apps.youtube.music   \n",
       "3          com.google.android.play.games   \n",
       "4      com.google.android.apps.translate   \n",
       "\n",
       "                                                 url  \n",
       "0  https://play.google.com/store/apps/details?id=...  \n",
       "1  https://play.google.com/store/apps/details?id=...  \n",
       "2  https://play.google.com/store/apps/details?id=...  \n",
       "3  https://play.google.com/store/apps/details?id=...  \n",
       "4  https://play.google.com/store/apps/details?id=...  \n",
       "\n",
       "[5 rows x 30 columns]"
      ]
     },
     "execution_count": 72,
     "metadata": {},
     "output_type": "execute_result"
    }
   ],
   "source": [
    "df.head()"
   ]
  },
  {
   "cell_type": "code",
   "execution_count": null,
   "metadata": {},
   "outputs": [],
   "source": []
  }
 ],
 "metadata": {
  "kernelspec": {
   "display_name": "Python 3",
   "language": "python",
   "name": "python3"
  },
  "language_info": {
   "codemirror_mode": {
    "name": "ipython",
    "version": 3
   },
   "file_extension": ".py",
   "mimetype": "text/x-python",
   "name": "python",
   "nbconvert_exporter": "python",
   "pygments_lexer": "ipython3",
   "version": "3.6.5"
  }
 },
 "nbformat": 4,
 "nbformat_minor": 2
}
