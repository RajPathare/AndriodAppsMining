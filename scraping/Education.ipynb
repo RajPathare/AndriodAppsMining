{
 "cells": [
  {
   "cell_type": "code",
   "execution_count": 2,
   "metadata": {},
   "outputs": [],
   "source": [
    "import play_scraper"
   ]
  },
  {
   "cell_type": "code",
   "execution_count": 3,
   "metadata": {},
   "outputs": [],
   "source": [
    "data=play_scraper.collection(\n",
    "        collection='TOP_GROSSING',\n",
    "        category='EDUCATION',\n",
    "        results=100,\n",
    "        page=1,\n",
    "        detailed=True\n",
    ")"
   ]
  },
  {
   "cell_type": "code",
   "execution_count": null,
   "metadata": {},
   "outputs": [],
   "source": []
  },
  {
   "cell_type": "code",
   "execution_count": 4,
   "metadata": {},
   "outputs": [],
   "source": [
    "import csv"
   ]
  },
  {
   "cell_type": "code",
   "execution_count": 5,
   "metadata": {},
   "outputs": [],
   "source": [
    "keys = data[0].keys()"
   ]
  },
  {
   "cell_type": "code",
   "execution_count": 6,
   "metadata": {},
   "outputs": [],
   "source": [
    "with open('latest.csv', 'a',newline='',encoding='utf-8') as output_file:\n",
    "    dict_writer = csv.DictWriter(output_file, keys)\n",
    "    dict_writer.writeheader()"
   ]
  },
  {
   "cell_type": "code",
   "execution_count": 7,
   "metadata": {},
   "outputs": [
    {
     "name": "stdout",
     "output_type": "stream",
     "text": [
      "100\n"
     ]
    }
   ],
   "source": [
    "print(len(data))\n",
    "import re"
   ]
  },
  {
   "cell_type": "code",
   "execution_count": 9,
   "metadata": {},
   "outputs": [
    {
     "name": "stdout",
     "output_type": "stream",
     "text": [
      "com.noctuasoftware.stellarium\n",
      "com.brainscape.mobile.portal\n",
      "com.hltcorp.fnpcertification\n",
      "com.vitotechnology.StarWalk2\n",
      "com.atistudios.italk.us\n",
      "com.atistudios.italk.he\n",
      "com.forcereadiness.armypromote\n",
      "com.learnzapp.securityplus\n",
      "com.brainpop.brainpopfeaturedmovieandroid\n",
      "com.tocaboca.tocaoffice\n",
      "com.miga.mytown\n",
      "com.cebroker.app\n",
      "com.onlinepianist.onlinepianist\n",
      "com.tocaboca.tocapets\n",
      "com.david.android.languageswitch\n",
      "com.everycircuit.free\n",
      "com.fws.plantsnap2\n",
      "com.pocketprep.securityplus\n",
      "llc.chinesepod.android\n",
      "com.originatorkids.EndlessWordplay\n",
      "com.babbel.mobile.android.eng\n",
      "com.mindtwisted.kanjistudy\n",
      "com.freeit.java\n",
      "com.daveandava.playerda\n",
      "com.monclarity.brainwell\n",
      "com.mango.android\n",
      "com.pocketprep.ptcbpartnership\n",
      "com.binibambini.Mini\n",
      "it.tinytap.market\n",
      "com.tocaboca.tocatown\n",
      "com.lang8.hinative\n",
      "com.tocaboca.tocaschool\n",
      "com.hltcorp.asvab\n",
      "kr.co.smartstudy.dinoworld_android_googlemarket\n",
      "com.atistudios.italk.ru\n",
      "com.asa2fly.prepware.powerplant\n",
      "com.storytoys.myveryhungrycaterpillar.free.android.googleplay\n",
      "com.solve.system.mathsolve\n",
      "insectidentification.cryptosoft.com.insectidentification\n",
      "com.freecloud.StackTheStates\n",
      "com.atistudios.mondly.ko\n",
      "com.linguist\n",
      "com.sx.puzzingo\n",
      "com.otsimo.app\n",
      "com.hltcorp.realestate\n",
      "io.lingvist.android\n",
      "com.asa2fly.prepware.airframe\n",
      "com.pocketprep.cen\n",
      "com.miga.myhospital\n",
      "com.hltcorp.aswbmasters2e\n",
      "com.applicaster.babytv.vod\n",
      "com.intellijoy.kids.academy\n",
      "com.vocabulary.app\n",
      "com.hltcorp.agnpcertification\n",
      "com.lernin.app\n",
      "com.tocaboca.tocalifefarm\n",
      "com.ktlmobileapps.levelitbooks\n",
      "com.blackrockadvertising.in\n",
      "com.t11.skyview\n",
      "com.tocaboca.tocastable\n",
      "com.languagedrops.drops.learn.learning.speak.language.icelandic.words\n",
      "com.drpanda.town.street\n",
      "com.knudge.me\n",
      "voicedream.reader\n",
      "com.inkren.skritter.chinese\n",
      "com.softwarestudios.asldictionarysignlanguage\n",
      "com.tbox.predictable_4\n",
      "com.tocaboca.tocanature\n",
      "com.pocketprep.comptia\n",
      "com.pocketprep.nasm\n",
      "com.atistudios.mondly.vi\n",
      "org.aicpcu.pur\n",
      "com.sportys.android.studybuddy.pvt\n",
      "com.languagedrops.drops.learn.learning.speak.language.thai.words\n",
      "com.yousician.yousician\n",
      "com.pocketprep.csmrn\n",
      "com.languagedrops.drops.learn.learning.speak.language.spanish.castilian.words\n",
      "com.asa2fly.prepware.privatepilot\n",
      "com.atistudios.italk.ro\n",
      "com.atistudios.italk.el\n",
      "com.atistudios.mondly.hr\n",
      "com.schoolzone.a36001\n",
      "com.babbel.mobile.android.pl\n",
      "com.drpanda.town.mall\n",
      "com.learninglabs.flashsticks\n",
      "com.iswift.fits\n",
      "com.allaboutlearningpress.letter_tiles\n",
      "org.ifsta.fsi8examprep\n",
      "jack.behaviourquiz\n",
      "com.asa2fly.prepware.remote\n",
      "com.pocketprep.pmp\n",
      "com.originatorkids.EndlessSpanish\n",
      "com.atistudios.mondly.fi\n",
      "com.mindvalley.mlm\n",
      "kr.co.smartstudy.bodlebookiapfree_us_android_googlemarket\n",
      "appinventor.ai_matt_suigeneris.EPA608\n",
      "com.musicmuni.riyaz\n",
      "com.simyasolutions.ling\n",
      "com.chuchutv.nurseryrhymespro\n",
      "air.com.mcmguides.A2017.afh1.snco\n"
     ]
    }
   ],
   "source": [
    "for x in data:\n",
    "    print(x['app_id'])\n",
    "    \n",
    "    if(isinstance(x['installs'], str)):\n",
    "        x['installs']=re.sub('[^A-Za-z0-9]+', '', x['installs'])\n",
    "        \n",
    "    x['installs']=int(x['installs'])\n",
    "    \n",
    "    if(isinstance(x['screenshots'], list)):\n",
    "        x['screenshots']=len(x['screenshots'])\n",
    "    with open('latest.csv', 'a',newline='',encoding='utf-8') as output_file:\n",
    "        dict_writer = csv.DictWriter(output_file, keys)\n",
    "        dict_writer.writerow(x)"
   ]
  },
  {
   "cell_type": "code",
   "execution_count": 13,
   "metadata": {},
   "outputs": [],
   "source": [
    "data=play_scraper.collection(\n",
    "        collection='NEW_FREE',\n",
    "        category='EDUCATION',\n",
    "        results=100,\n",
    "        page=1,\n",
    "        detailed=True\n",
    ")"
   ]
  },
  {
   "cell_type": "code",
   "execution_count": 14,
   "metadata": {},
   "outputs": [
    {
     "data": {
      "text/plain": [
       "'ROS Hacks And AntiHack'"
      ]
     },
     "execution_count": 14,
     "metadata": {},
     "output_type": "execute_result"
    }
   ],
   "source": [
    "data[0]['title']"
   ]
  },
  {
   "cell_type": "code",
   "execution_count": 16,
   "metadata": {},
   "outputs": [
    {
     "name": "stdout",
     "output_type": "stream",
     "text": [
      "tutorialseoyt.el.com.roshacksandantihack\n",
      "com.urekascience.ureka\n",
      "edu.famu.famumobile\n",
      "com.apptegy.aurora\n",
      "com.subsplashconsulting.s_NC5WB7\n",
      "edu.iris.app.stationmonitor\n",
      "com.hcpsnc.org\n",
      "com.langjet.the.free.language.learner.game\n",
      "com.shamirlens.shamirar\n",
      "com.app_ncrcucsb.layout\n",
      "com.apptegy.tallassee\n",
      "com.j1711d964814.www\n",
      "com.spellingtest\n",
      "whatisthis.inspiringlab.com.np.whatisthis\n",
      "com.preply\n",
      "org.zerotothree.babies\n",
      "com.subsplashconsulting.s_RMTRZB\n",
      "com.andromo.dev599241.app857725\n",
      "com.andromo.dev599241.app857856\n",
      "com.the5lovelanguagesapp.garychapmanbook.lovelanguages\n",
      "com.udroid.usb.usbbootmethods\n",
      "com.QotoQot.ConjuGato\n",
      "com.mydog.training.puppy.trainer\n",
      "com.intellivance.intellicards\n",
      "com.subsplashconsulting.s_HZCZV8\n",
      "com.cutcom.apparmor.auburn\n",
      "com.andromo.dev599241.app857746\n",
      "com.els.elsapp\n",
      "com.esv2go.chesapeake\n",
      "com.tikl.tokl\n",
      "com.PaulBrookes.AsqCalculator\n",
      "org.geogebra.android.cascalc\n",
      "com.andromo.dev459376.app853934\n",
      "com.blackboard.community.bcths\n",
      "com.vky824.darknetfaq\n",
      "urokimusic.com.HowToPlayRecorder\n",
      "com.bobheilig.YourVirtualUplineVidapp\n",
      "com.subsplashconsulting.s_K2F9Q3\n",
      "in.zoob.candlestickpattern\n",
      "com.mumzapps.abc_phonics_alphabets_kids_toddler_children_tracing_game\n",
      "net.socs.superiorwildcats\n",
      "com.subsplashconsulting.s_2BDMH8\n",
      "com.apptegy.galatia\n",
      "com.forqan.tech.SuperherosColoring\n",
      "com.chatvideogirl.livechatadvice\n",
      "com.simyasolutions.ling.vi\n",
      "com.LittleRockGames\n",
      "com.app_inspireelmentary.layout\n",
      "com.MarinerLicensePrep.MLP\n",
      "com.foxi.studios.PreSchool1\n",
      "com.foxi.studios.CarsColoring\n",
      "com.andromo.dev599241.app857714\n",
      "com.sabiduriadev.recuperarfotosborradasdelmovilandroidguia\n",
      "com.ccrnreview\n",
      "com.paternidadefectiva.app\n",
      "com.myreviewassistant_testcard.android\n",
      "com.sellucoolandcheap.learn_basic_mobile_repairing_course\n",
      "com.andromo.dev599241.app850906\n",
      "com.subsplashconsulting.s_233PDH\n",
      "com.lse\n",
      "com.hitech.englishtest\n",
      "com.gikiapps.usb.boot_methods\n",
      "com.kaplan.lms\n",
      "navage.quiz.edu.math\n",
      "rakta.plant.identification\n",
      "com.free.trick.inter\n",
      "com.learnenglish.videomotivationstories\n",
      "com.banfield.connect\n",
      "com.chuladapps.mirartvenvivogratisenespanolguia\n",
      "com.sia.jacksonelementary\n",
      "com.jlpt.save_jeff.jd_jlpt\n",
      "air.com.bullstudios.coolgirl.craftygirls\n",
      "com.gabbartapp.prairiland\n",
      "com.maclogics.aslwordapp\n",
      "com.love.horoscopelovecompatibility\n",
      "com.andromo.dev599241.app857731\n",
      "kbc.kbc2018.gk.game.educational.trivia.quiz.game.kbc.in.english.win.and.earn.money\n",
      "com.subsplashconsulting.s_FKXQD5\n",
      "com.learnenglish.englishmovieswithsubtitles\n",
      "com.jm.jaisy.trsa\n",
      "com.Toytron.FutureBookDinosourSong1\n",
      "com.offline.dragball.draw.free\n",
      "com.crux.cruxpartseekerFree\n",
      "com.xsoft0900.wifiTutorial\n",
      "com.MyKidzDay.parent\n",
      "com.aspulstudios.english101\n",
      "com.app_oakhillsschool.layout\n",
      "com.calmid.learnandplay.cadets\n",
      "taxsmart.com.ged\n",
      "digital.cds.Advance\n",
      "com.LearnPlumbingALLFittingGuideTraining\n",
      "com.cebyrdhs.app\n",
      "com.vettechprep.vettechprepapp\n",
      "com.apptegy.deermtjudea\n",
      "com.firstlinetech\n",
      "com.BestAppUrdu.MardanaTaqatNuskha\n",
      "com.anishagamesstudio.BuildboxTutorials\n",
      "com.avoncatalog.broch\n",
      "com.amplyus.minipcr\n",
      "com.muchosapps.comopuedosaberconquienchateamiparejaguia\n"
     ]
    }
   ],
   "source": [
    "for x in data:\n",
    "    print(x['app_id'])\n",
    "    \n",
    "    if(isinstance(x['installs'], str)):\n",
    "        x['installs']=re.sub('[^A-Za-z0-9]+', '', x['installs'])\n",
    "        \n",
    "    x['installs']=int(x['installs'])\n",
    "    \n",
    "    if(isinstance(x['screenshots'], list)):\n",
    "        x['screenshots']=len(x['screenshots'])\n",
    "    with open('latest.csv', 'a',newline='',encoding='utf-8') as output_file:\n",
    "        dict_writer = csv.DictWriter(output_file, keys)\n",
    "        dict_writer.writerow(x)"
   ]
  },
  {
   "cell_type": "code",
   "execution_count": null,
   "metadata": {},
   "outputs": [],
   "source": []
  },
  {
   "cell_type": "code",
   "execution_count": null,
   "metadata": {},
   "outputs": [],
   "source": []
  }
 ],
 "metadata": {
  "kernelspec": {
   "display_name": "Python 3",
   "language": "python",
   "name": "python3"
  },
  "language_info": {
   "codemirror_mode": {
    "name": "ipython",
    "version": 3
   },
   "file_extension": ".py",
   "mimetype": "text/x-python",
   "name": "python",
   "nbconvert_exporter": "python",
   "pygments_lexer": "ipython3",
   "version": "3.6.5"
  }
 },
 "nbformat": 4,
 "nbformat_minor": 2
}
