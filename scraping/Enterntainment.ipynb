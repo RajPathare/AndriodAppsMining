{
 "cells": [
  {
   "cell_type": "code",
   "execution_count": 1,
   "metadata": {},
   "outputs": [],
   "source": [
    "import play_scraper"
   ]
  },
  {
   "cell_type": "code",
   "execution_count": 2,
   "metadata": {},
   "outputs": [],
   "source": [
    "data=play_scraper.collection(\n",
    "        collection='NEW_FREE',\n",
    "        category='ENTERTAINMENT',\n",
    "        results=100,\n",
    "        page=1,\n",
    "        detailed=True,\n",
    "        gl='in'\n",
    ")"
   ]
  },
  {
   "cell_type": "code",
   "execution_count": 3,
   "metadata": {},
   "outputs": [
    {
     "data": {
      "text/plain": [
       "'My Live Tv'"
      ]
     },
     "execution_count": 3,
     "metadata": {},
     "output_type": "execute_result"
    }
   ],
   "source": [
    "data[0]['title']"
   ]
  },
  {
   "cell_type": "code",
   "execution_count": 4,
   "metadata": {},
   "outputs": [],
   "source": [
    "import csv"
   ]
  },
  {
   "cell_type": "code",
   "execution_count": 5,
   "metadata": {},
   "outputs": [],
   "source": [
    "keys = data[0].keys()"
   ]
  },
  {
   "cell_type": "code",
   "execution_count": 6,
   "metadata": {},
   "outputs": [],
   "source": [
    "with open('dataset/entern.csv', 'a',newline='',encoding='utf-8') as output_file:\n",
    "    dict_writer = csv.DictWriter(output_file, keys)\n",
    "    dict_writer.writeheader()"
   ]
  },
  {
   "cell_type": "code",
   "execution_count": 7,
   "metadata": {},
   "outputs": [
    {
     "name": "stdout",
     "output_type": "stream",
     "text": [
      "100\n"
     ]
    }
   ],
   "source": [
    "print(len(data))\n",
    "import re"
   ]
  },
  {
   "cell_type": "code",
   "execution_count": 8,
   "metadata": {},
   "outputs": [
    {
     "name": "stdout",
     "output_type": "stream",
     "text": [
      "com.app.entertainmenttv\n",
      "com.games3dstudio.tv.internet.free.channels.cricket.internetkaybegair.prank\n",
      "com.firstname333888.hanckgiftmoney\n",
      "com.king.money.wallet\n",
      "com.game.antsmashers\n",
      "com.gunatitart.kundlibhagyaVideoStatus\n",
      "com.every.storyt1\n",
      "com.slickorps.follow.tipsformusically\n",
      "com.gunatitart.nairafullscreenvideo\n",
      "fourtoninek.likes.app.com.fourtoninek\n",
      "com.freefollowersandfansmusically.generatorfollowerstik\n",
      "com.gunatitart.nairavideostatus\n",
      "com.funnyvideosoftiktok\n",
      "teluguvideostatus20018.telugustatusvideo.telugustatus\n",
      "com.full.screen.video.status.story\n",
      "com.logreport.app1\n",
      "com.chinchpokli.chintamani\n",
      "bigg.bosstamil27\n",
      "videos.DilbarDilbar.Song\n",
      "com.FreeDailySpinandCoinsLink.FreeSpinLink\n",
      "tamil.tv28\n",
      "com.asitsssolutions.girlsdp.forwhatsapp\n",
      "baxley.photolyrical.videostatusmaker\n",
      "com.cyberspace.freespinandcoin\n",
      "com.bottleshoot.shooter\n",
      "com.ravibirana2.jokes\n",
      "com.bradgipstudio.bestmadlipzvideo\n",
      "kidscartoontv.bestmovie.bestwatch\n",
      "com.pixocityapps.fullscreenvideostatus\n",
      "com.redking412.giftcash\n",
      "com.chromaticzone.voicetofindphone\n",
      "com.xitij.fourengage\n",
      "mason.tamillyricalphotos.slideshowmaker\n",
      "com.gmezoapps.hollywoodhindidubbedmovies\n",
      "com.statusking.fullscreen.video.status.whatsapp\n",
      "com.getfreespinandcoinapplication\n",
      "com.talkinggames.talkingmonkey\n",
      "com.apps.techcube.offlinecartoon\n",
      "com.indianapps.Malayalamivideosongstatus\n",
      "com.interestingfacts.hindirochaktathy\n",
      "com.spin.to.win2018.app\n",
      "girnarisadhu.pubgwallpapers.pung4kwallpaper.dailyupdatewallpaper\n",
      "com.zf.rock.icon\n",
      "com.TikTokFunnyVideosMarathi\n",
      "com.wSattaMatkaLive_7804556\n",
      "com.gofinger.mashup\n",
      "com.sunilmalviy308.TAHALKA\n",
      "musicalfilters4u.aplicsdi\n",
      "com.colorfeel.coloringbook\n",
      "joshua.bententoontamil.bententoontamil\n",
      "earn.spin.makemoney.luckywheel\n",
      "com.beautyplus.selfie.camera\n",
      "com.fahadsports.t20cricketgames\n",
      "com.wTamilGUNHDVideo_7800789\n",
      "com.gunatitart.bepanahvideostatus\n",
      "com.tikkatokkproo\n",
      "com.gunatitart.KasamTerePyaarKiVideoStatus\n",
      "com.money.monkey.gain\n",
      "com.wYoMovies_7822289\n",
      "com.gunatitart.tvserialvideostatus\n",
      "com.eho.visited.facebook.profile\n",
      "com.flashplayerplugin\n",
      "com.suspense.diary.sgcreation\n",
      "diyorbeez.diybricolajevideos\n",
      "example.smscollectionm.Tulapahte\n",
      "com.ngcnaveen1998.zebraearn\n",
      "com.appakshay2018.guidetogetfans\n",
      "i.herostechnology.test\n",
      "com.chotiapp.boudi\n",
      "pocket.tvmini3\n",
      "com.TikTokFunnyVideosStatus\n",
      "com.sonymusic.jalebi_bollywood_movie_songs\n",
      "com.eyeapps.hollywoodhindidubbedmovies\n",
      "com.blitz.senthil.bebo.todayluckyguessing\n",
      "com.rcmmusic\n",
      "hd.video.wallpaper.fullscreen\n",
      "photoframeeditors.fullscreenvideostatus\n",
      "astirtech.goodmorninggoodnightstatus\n",
      "appp.awdheshpremi.awdeshpremivideo\n",
      "com.managermagisk.magisk\n",
      "com.indianapps.hindivideosongstatus\n",
      "prediction.prediction\n",
      "com.TikTokFunnyVideosTamil\n",
      "com.andromo.dev753327.app858550\n",
      "com.tiktokvideo.musicallyvideo.tiktokvideodownloader\n",
      "com.mehramedia.PunjabiMovies\n",
      "admobileapps.indiavigo\n",
      "ekaa.tamil.fullscreenvidstatus\n",
      "com.barbie.sandbox.colorbynymber.coloringpages.adultbookpages.coloringgames\n",
      "com.appybuilder.cyberexpertdude.CashRewardMoney\n",
      "com.wSaamy2HDMovie_7891507\n",
      "com.nipalotai.polatio\n",
      "com.sonymusic.saamy_square_tamil_movie_songs\n",
      "global.kortasmov\n",
      "com.fullscreen.video.status.story\n",
      "io.makeroid.firstname333888.agiftmoney\n",
      "latest.fullscreen.video.status\n",
      "com.viaan.dsu\n",
      "com.crazykarnatak.Karnataka_Land_Maps\n",
      "com.abwservicesc\n"
     ]
    }
   ],
   "source": [
    "for x in data:\n",
    "    print(x['app_id'])\n",
    "    \n",
    "    if(isinstance(x['installs'], str)):\n",
    "        x['installs']=re.sub('[^A-Za-z0-9]+', '', x['installs'])\n",
    "        \n",
    "    x['installs']=int(x['installs'])\n",
    "    \n",
    "    if(isinstance(x['screenshots'], list)):\n",
    "        x['screenshots']=len(x['screenshots'])\n",
    "    with open('dataset/entern.csv', 'a',newline='',encoding='utf-8') as output_file:\n",
    "        dict_writer = csv.DictWriter(output_file, keys)\n",
    "        dict_writer.writerow(x)"
   ]
  },
  {
   "cell_type": "code",
   "execution_count": 11,
   "metadata": {},
   "outputs": [],
   "source": [
    "data=play_scraper.collection(\n",
    "        collection='NEW_PAID',\n",
    "        category='ENTERTAINMENT',\n",
    "        results=100,\n",
    "        page=1,\n",
    "        detailed=True,\n",
    "        gl='in'\n",
    ")"
   ]
  },
  {
   "cell_type": "code",
   "execution_count": 14,
   "metadata": {},
   "outputs": [
    {
     "data": {
      "text/plain": [
       "[]"
      ]
     },
     "execution_count": 14,
     "metadata": {},
     "output_type": "execute_result"
    }
   ],
   "source": [
    "data[0]['title']"
   ]
  },
  {
   "cell_type": "code",
   "execution_count": 16,
   "metadata": {},
   "outputs": [
    {
     "name": "stdout",
     "output_type": "stream",
     "text": [
      "tutorialseoyt.el.com.roshacksandantihack\n",
      "com.urekascience.ureka\n",
      "edu.famu.famumobile\n",
      "com.apptegy.aurora\n",
      "com.subsplashconsulting.s_NC5WB7\n",
      "edu.iris.app.stationmonitor\n",
      "com.hcpsnc.org\n",
      "com.langjet.the.free.language.learner.game\n",
      "com.shamirlens.shamirar\n",
      "com.app_ncrcucsb.layout\n",
      "com.apptegy.tallassee\n",
      "com.j1711d964814.www\n",
      "com.spellingtest\n",
      "whatisthis.inspiringlab.com.np.whatisthis\n",
      "com.preply\n",
      "org.zerotothree.babies\n",
      "com.subsplashconsulting.s_RMTRZB\n",
      "com.andromo.dev599241.app857725\n",
      "com.andromo.dev599241.app857856\n",
      "com.the5lovelanguagesapp.garychapmanbook.lovelanguages\n",
      "com.udroid.usb.usbbootmethods\n",
      "com.QotoQot.ConjuGato\n",
      "com.mydog.training.puppy.trainer\n",
      "com.intellivance.intellicards\n",
      "com.subsplashconsulting.s_HZCZV8\n",
      "com.cutcom.apparmor.auburn\n",
      "com.andromo.dev599241.app857746\n",
      "com.els.elsapp\n",
      "com.esv2go.chesapeake\n",
      "com.tikl.tokl\n",
      "com.PaulBrookes.AsqCalculator\n",
      "org.geogebra.android.cascalc\n",
      "com.andromo.dev459376.app853934\n",
      "com.blackboard.community.bcths\n",
      "com.vky824.darknetfaq\n",
      "urokimusic.com.HowToPlayRecorder\n",
      "com.bobheilig.YourVirtualUplineVidapp\n",
      "com.subsplashconsulting.s_K2F9Q3\n",
      "in.zoob.candlestickpattern\n",
      "com.mumzapps.abc_phonics_alphabets_kids_toddler_children_tracing_game\n",
      "net.socs.superiorwildcats\n",
      "com.subsplashconsulting.s_2BDMH8\n",
      "com.apptegy.galatia\n",
      "com.forqan.tech.SuperherosColoring\n",
      "com.chatvideogirl.livechatadvice\n",
      "com.simyasolutions.ling.vi\n",
      "com.LittleRockGames\n",
      "com.app_inspireelmentary.layout\n",
      "com.MarinerLicensePrep.MLP\n",
      "com.foxi.studios.PreSchool1\n",
      "com.foxi.studios.CarsColoring\n",
      "com.andromo.dev599241.app857714\n",
      "com.sabiduriadev.recuperarfotosborradasdelmovilandroidguia\n",
      "com.ccrnreview\n",
      "com.paternidadefectiva.app\n",
      "com.myreviewassistant_testcard.android\n",
      "com.sellucoolandcheap.learn_basic_mobile_repairing_course\n",
      "com.andromo.dev599241.app850906\n",
      "com.subsplashconsulting.s_233PDH\n",
      "com.lse\n",
      "com.hitech.englishtest\n",
      "com.gikiapps.usb.boot_methods\n",
      "com.kaplan.lms\n",
      "navage.quiz.edu.math\n",
      "rakta.plant.identification\n",
      "com.free.trick.inter\n",
      "com.learnenglish.videomotivationstories\n",
      "com.banfield.connect\n",
      "com.chuladapps.mirartvenvivogratisenespanolguia\n",
      "com.sia.jacksonelementary\n",
      "com.jlpt.save_jeff.jd_jlpt\n",
      "air.com.bullstudios.coolgirl.craftygirls\n",
      "com.gabbartapp.prairiland\n",
      "com.maclogics.aslwordapp\n",
      "com.love.horoscopelovecompatibility\n",
      "com.andromo.dev599241.app857731\n",
      "kbc.kbc2018.gk.game.educational.trivia.quiz.game.kbc.in.english.win.and.earn.money\n",
      "com.subsplashconsulting.s_FKXQD5\n",
      "com.learnenglish.englishmovieswithsubtitles\n",
      "com.jm.jaisy.trsa\n",
      "com.Toytron.FutureBookDinosourSong1\n",
      "com.offline.dragball.draw.free\n",
      "com.crux.cruxpartseekerFree\n",
      "com.xsoft0900.wifiTutorial\n",
      "com.MyKidzDay.parent\n",
      "com.aspulstudios.english101\n",
      "com.app_oakhillsschool.layout\n",
      "com.calmid.learnandplay.cadets\n",
      "taxsmart.com.ged\n",
      "digital.cds.Advance\n",
      "com.LearnPlumbingALLFittingGuideTraining\n",
      "com.cebyrdhs.app\n",
      "com.vettechprep.vettechprepapp\n",
      "com.apptegy.deermtjudea\n",
      "com.firstlinetech\n",
      "com.BestAppUrdu.MardanaTaqatNuskha\n",
      "com.anishagamesstudio.BuildboxTutorials\n",
      "com.avoncatalog.broch\n",
      "com.amplyus.minipcr\n",
      "com.muchosapps.comopuedosaberconquienchateamiparejaguia\n"
     ]
    }
   ],
   "source": [
    "for x in data:\n",
    "    print(x['app_id'])\n",
    "    \n",
    "    if(isinstance(x['installs'], str)):\n",
    "        x['installs']=re.sub('[^A-Za-z0-9]+', '', x['installs'])\n",
    "        \n",
    "    x['installs']=int(x['installs'])\n",
    "    \n",
    "    if(isinstance(x['screenshots'], list)):\n",
    "        x['screenshots']=len(x['screenshots'])\n",
    "    with open('latest.csv', 'a',newline='',encoding='utf-8') as output_file:\n",
    "        dict_writer = csv.DictWriter(output_file, keys)\n",
    "        dict_writer.writerow(x)"
   ]
  },
  {
   "cell_type": "code",
   "execution_count": null,
   "metadata": {},
   "outputs": [],
   "source": [
    "data=play_scraper.collection(\n",
    "        collection='TOP_FREE',\n",
    "        category='ENTERTAINMENT',\n",
    "        results=100,\n",
    "        page=1,\n",
    "        detailed=True,\n",
    "        gl='in'\n",
    ")"
   ]
  },
  {
   "cell_type": "code",
   "execution_count": null,
   "metadata": {},
   "outputs": [],
   "source": [
    "data[0]['title']\n",
    "for x in data:\n",
    "    print(x['app_id'])\n",
    "    \n",
    "    if(isinstance(x['installs'], str)):\n",
    "        x['installs']=re.sub('[^A-Za-z0-9]+', '', x['installs'])\n",
    "        \n",
    "    x['installs']=int(x['installs'])\n",
    "    \n",
    "    if(isinstance(x['screenshots'], list)):\n",
    "        x['screenshots']=len(x['screenshots'])\n",
    "    with open('latest.csv', 'a',newline='',encoding='utf-8') as output_file:\n",
    "        dict_writer = csv.DictWriter(output_file, keys)\n",
    "        dict_writer.writerow(x)"
   ]
  },
  {
   "cell_type": "code",
   "execution_count": null,
   "metadata": {},
   "outputs": [],
   "source": [
    "data=play_scraper.collection(\n",
    "        collection='TOP_PAID',\n",
    "        category='ENTERTAINMENT',\n",
    "        results=100,\n",
    "        page=1,\n",
    "        detailed=True,\n",
    "        gl='in'\n",
    ")"
   ]
  },
  {
   "cell_type": "code",
   "execution_count": null,
   "metadata": {},
   "outputs": [],
   "source": [
    "data[0]['title']\n",
    "for x in data:\n",
    "    print(x['app_id'])\n",
    "    \n",
    "    if(isinstance(x['installs'], str)):\n",
    "        x['installs']=re.sub('[^A-Za-z0-9]+', '', x['installs'])\n",
    "        \n",
    "    x['installs']=int(x['installs'])\n",
    "    \n",
    "    if(isinstance(x['screenshots'], list)):\n",
    "        x['screenshots']=len(x['screenshots'])\n",
    "    with open('latest.csv', 'a',newline='',encoding='utf-8') as output_file:\n",
    "        dict_writer = csv.DictWriter(output_file, keys)\n",
    "        dict_writer.writerow(x)"
   ]
  },
  {
   "cell_type": "code",
   "execution_count": null,
   "metadata": {},
   "outputs": [],
   "source": [
    "data=play_scraper.collection(\n",
    "        collection='TOP_GROSSING',\n",
    "        category='ENTERTAINMENT',\n",
    "        results=100,\n",
    "        page=1,\n",
    "        detailed=True,\n",
    "        gl='in'\n",
    ")"
   ]
  },
  {
   "cell_type": "code",
   "execution_count": null,
   "metadata": {},
   "outputs": [],
   "source": [
    "data[0]['title']\n",
    "for x in data:\n",
    "    print(x['app_id'])\n",
    "    \n",
    "    if(isinstance(x['installs'], str)):\n",
    "        x['installs']=re.sub('[^A-Za-z0-9]+', '', x['installs'])\n",
    "        \n",
    "    x['installs']=int(x['installs'])\n",
    "    \n",
    "    if(isinstance(x['screenshots'], list)):\n",
    "        x['screenshots']=len(x['screenshots'])\n",
    "    with open('latest.csv', 'a',newline='',encoding='utf-8') as output_file:\n",
    "        dict_writer = csv.DictWriter(output_file, keys)\n",
    "        dict_writer.writerow(x)"
   ]
  },
  {
   "cell_type": "code",
   "execution_count": null,
   "metadata": {},
   "outputs": [],
   "source": [
    "data=play_scraper.collection(\n",
    "        collection='TOP_GROSSING',\n",
    "        category='TRENDING',\n",
    "        results=100,\n",
    "        page=1,\n",
    "        detailed=True,\n",
    "        gl='in'\n",
    ")"
   ]
  },
  {
   "cell_type": "code",
   "execution_count": null,
   "metadata": {},
   "outputs": [],
   "source": [
    "data[0]['title']\n",
    "for x in data:\n",
    "    print(x['app_id'])\n",
    "    \n",
    "    if(isinstance(x['installs'], str)):\n",
    "        x['installs']=re.sub('[^A-Za-z0-9]+', '', x['installs'])\n",
    "        \n",
    "    x['installs']=int(x['installs'])\n",
    "    \n",
    "    if(isinstance(x['screenshots'], list)):\n",
    "        x['screenshots']=len(x['screenshots'])\n",
    "    with open('latest.csv', 'a',newline='',encoding='utf-8') as output_file:\n",
    "        dict_writer = csv.DictWriter(output_file, keys)\n",
    "        dict_writer.writerow(x)"
   ]
  }
 ],
 "metadata": {
  "kernelspec": {
   "display_name": "Python 3",
   "language": "python",
   "name": "python3"
  },
  "language_info": {
   "codemirror_mode": {
    "name": "ipython",
    "version": 3
   },
   "file_extension": ".py",
   "mimetype": "text/x-python",
   "name": "python",
   "nbconvert_exporter": "python",
   "pygments_lexer": "ipython3",
   "version": "3.6.5"
  }
 },
 "nbformat": 4,
 "nbformat_minor": 2
}
