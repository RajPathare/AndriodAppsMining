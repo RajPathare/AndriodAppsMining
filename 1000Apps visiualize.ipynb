{
 "cells": [
  {
   "cell_type": "code",
   "execution_count": 1,
   "metadata": {},
   "outputs": [],
   "source": [
    "import pandas as pd\n",
    "import numpy as np\n",
    "import matplotlib.pyplot as plt"
   ]
  },
  {
   "cell_type": "code",
   "execution_count": 2,
   "metadata": {},
   "outputs": [],
   "source": [
    "df = pd.read_csv('1000Apps.csv')"
   ]
  },
  {
   "cell_type": "code",
   "execution_count": 3,
   "metadata": {},
   "outputs": [
    {
     "data": {
      "text/html": [
       "<div>\n",
       "<style scoped>\n",
       "    .dataframe tbody tr th:only-of-type {\n",
       "        vertical-align: middle;\n",
       "    }\n",
       "\n",
       "    .dataframe tbody tr th {\n",
       "        vertical-align: top;\n",
       "    }\n",
       "\n",
       "    .dataframe thead th {\n",
       "        text-align: right;\n",
       "    }\n",
       "</style>\n",
       "<table border=\"1\" class=\"dataframe\">\n",
       "  <thead>\n",
       "    <tr style=\"text-align: right;\">\n",
       "      <th></th>\n",
       "      <th>name</th>\n",
       "      <th>numDownloadsMin</th>\n",
       "      <th>fileSize</th>\n",
       "      <th>price</th>\n",
       "      <th>aggregateRating</th>\n",
       "      <th>ratingCount</th>\n",
       "    </tr>\n",
       "  </thead>\n",
       "  <tbody>\n",
       "    <tr>\n",
       "      <th>0</th>\n",
       "      <td>FSP Power App</td>\n",
       "      <td>500</td>\n",
       "      <td>12M</td>\n",
       "      <td>0.0</td>\n",
       "      <td>3.967742</td>\n",
       "      <td>31</td>\n",
       "    </tr>\n",
       "    <tr>\n",
       "      <th>1</th>\n",
       "      <td>FSP Autofahrer-App</td>\n",
       "      <td>500</td>\n",
       "      <td>1,3M</td>\n",
       "      <td>0.0</td>\n",
       "      <td>3.818182</td>\n",
       "      <td>11</td>\n",
       "    </tr>\n",
       "    <tr>\n",
       "      <th>2</th>\n",
       "      <td>Art-picnic FSP</td>\n",
       "      <td>500</td>\n",
       "      <td>2,7M</td>\n",
       "      <td>0.0</td>\n",
       "      <td>4.722222</td>\n",
       "      <td>18</td>\n",
       "    </tr>\n",
       "    <tr>\n",
       "      <th>3</th>\n",
       "      <td>Tennis F.S.P</td>\n",
       "      <td>1</td>\n",
       "      <td>4,5M</td>\n",
       "      <td>0.0</td>\n",
       "      <td>0.000000</td>\n",
       "      <td>0</td>\n",
       "    </tr>\n",
       "    <tr>\n",
       "      <th>4</th>\n",
       "      <td>Super Piano FREE HD</td>\n",
       "      <td>100000</td>\n",
       "      <td>4,1M</td>\n",
       "      <td>0.0</td>\n",
       "      <td>3.982524</td>\n",
       "      <td>1545</td>\n",
       "    </tr>\n",
       "  </tbody>\n",
       "</table>\n",
       "</div>"
      ],
      "text/plain": [
       "                  name  numDownloadsMin fileSize  price  aggregateRating  \\\n",
       "0        FSP Power App              500      12M    0.0         3.967742   \n",
       "1   FSP Autofahrer-App              500     1,3M    0.0         3.818182   \n",
       "2       Art-picnic FSP              500     2,7M    0.0         4.722222   \n",
       "3         Tennis F.S.P                1     4,5M    0.0         0.000000   \n",
       "4  Super Piano FREE HD           100000     4,1M    0.0         3.982524   \n",
       "\n",
       "   ratingCount  \n",
       "0           31  \n",
       "1           11  \n",
       "2           18  \n",
       "3            0  \n",
       "4         1545  "
      ]
     },
     "execution_count": 3,
     "metadata": {},
     "output_type": "execute_result"
    }
   ],
   "source": [
    "df.head()"
   ]
  },
  {
   "cell_type": "code",
   "execution_count": 4,
   "metadata": {},
   "outputs": [
    {
     "name": "stdout",
     "output_type": "stream",
     "text": [
      "1050\n"
     ]
    }
   ],
   "source": [
    "print(len(df))"
   ]
  },
  {
   "cell_type": "code",
   "execution_count": 6,
   "metadata": {},
   "outputs": [
    {
     "name": "stdout",
     "output_type": "stream",
     "text": [
      "724\n",
      "724\n"
     ]
    }
   ],
   "source": [
    "df=df.drop_duplicates(keep='first')\n",
    "print(len(df))\n",
    "df=df[df.ratingCount>=10]\n",
    "print(len(df))"
   ]
  },
  {
   "cell_type": "code",
   "execution_count": 6,
   "metadata": {},
   "outputs": [
    {
     "data": {
      "text/html": [
       "<div>\n",
       "<style scoped>\n",
       "    .dataframe tbody tr th:only-of-type {\n",
       "        vertical-align: middle;\n",
       "    }\n",
       "\n",
       "    .dataframe tbody tr th {\n",
       "        vertical-align: top;\n",
       "    }\n",
       "\n",
       "    .dataframe thead th {\n",
       "        text-align: right;\n",
       "    }\n",
       "</style>\n",
       "<table border=\"1\" class=\"dataframe\">\n",
       "  <thead>\n",
       "    <tr style=\"text-align: right;\">\n",
       "      <th></th>\n",
       "      <th>numDownloadsMin</th>\n",
       "      <th>price</th>\n",
       "      <th>aggregateRating</th>\n",
       "      <th>ratingCount</th>\n",
       "    </tr>\n",
       "  </thead>\n",
       "  <tbody>\n",
       "    <tr>\n",
       "      <th>numDownloadsMin</th>\n",
       "      <td>1.000000</td>\n",
       "      <td>-0.027678</td>\n",
       "      <td>0.050378</td>\n",
       "      <td>0.595505</td>\n",
       "    </tr>\n",
       "    <tr>\n",
       "      <th>price</th>\n",
       "      <td>-0.027678</td>\n",
       "      <td>1.000000</td>\n",
       "      <td>-0.309701</td>\n",
       "      <td>-0.014655</td>\n",
       "    </tr>\n",
       "    <tr>\n",
       "      <th>aggregateRating</th>\n",
       "      <td>0.050378</td>\n",
       "      <td>-0.309701</td>\n",
       "      <td>1.000000</td>\n",
       "      <td>0.031179</td>\n",
       "    </tr>\n",
       "    <tr>\n",
       "      <th>ratingCount</th>\n",
       "      <td>0.595505</td>\n",
       "      <td>-0.014655</td>\n",
       "      <td>0.031179</td>\n",
       "      <td>1.000000</td>\n",
       "    </tr>\n",
       "  </tbody>\n",
       "</table>\n",
       "</div>"
      ],
      "text/plain": [
       "                 numDownloadsMin     price  aggregateRating  ratingCount\n",
       "numDownloadsMin         1.000000 -0.027678         0.050378     0.595505\n",
       "price                  -0.027678  1.000000        -0.309701    -0.014655\n",
       "aggregateRating         0.050378 -0.309701         1.000000     0.031179\n",
       "ratingCount             0.595505 -0.014655         0.031179     1.000000"
      ]
     },
     "execution_count": 6,
     "metadata": {},
     "output_type": "execute_result"
    }
   ],
   "source": [
    "df.corr()"
   ]
  },
  {
   "cell_type": "code",
   "execution_count": 7,
   "metadata": {},
   "outputs": [
    {
     "data": {
      "text/html": [
       "<div>\n",
       "<style scoped>\n",
       "    .dataframe tbody tr th:only-of-type {\n",
       "        vertical-align: middle;\n",
       "    }\n",
       "\n",
       "    .dataframe tbody tr th {\n",
       "        vertical-align: top;\n",
       "    }\n",
       "\n",
       "    .dataframe thead th {\n",
       "        text-align: right;\n",
       "    }\n",
       "</style>\n",
       "<table border=\"1\" class=\"dataframe\">\n",
       "  <thead>\n",
       "    <tr style=\"text-align: right;\">\n",
       "      <th></th>\n",
       "      <th>numDownloadsMin</th>\n",
       "      <th>price</th>\n",
       "      <th>aggregateRating</th>\n",
       "      <th>ratingCount</th>\n",
       "    </tr>\n",
       "  </thead>\n",
       "  <tbody>\n",
       "    <tr>\n",
       "      <th>numDownloadsMin</th>\n",
       "      <td>1.000000</td>\n",
       "      <td>-0.469875</td>\n",
       "      <td>0.212178</td>\n",
       "      <td>0.933613</td>\n",
       "    </tr>\n",
       "    <tr>\n",
       "      <th>price</th>\n",
       "      <td>-0.469875</td>\n",
       "      <td>1.000000</td>\n",
       "      <td>-0.222930</td>\n",
       "      <td>-0.375129</td>\n",
       "    </tr>\n",
       "    <tr>\n",
       "      <th>aggregateRating</th>\n",
       "      <td>0.212178</td>\n",
       "      <td>-0.222930</td>\n",
       "      <td>1.000000</td>\n",
       "      <td>0.301035</td>\n",
       "    </tr>\n",
       "    <tr>\n",
       "      <th>ratingCount</th>\n",
       "      <td>0.933613</td>\n",
       "      <td>-0.375129</td>\n",
       "      <td>0.301035</td>\n",
       "      <td>1.000000</td>\n",
       "    </tr>\n",
       "  </tbody>\n",
       "</table>\n",
       "</div>"
      ],
      "text/plain": [
       "                 numDownloadsMin     price  aggregateRating  ratingCount\n",
       "numDownloadsMin         1.000000 -0.469875         0.212178     0.933613\n",
       "price                  -0.469875  1.000000        -0.222930    -0.375129\n",
       "aggregateRating         0.212178 -0.222930         1.000000     0.301035\n",
       "ratingCount             0.933613 -0.375129         0.301035     1.000000"
      ]
     },
     "execution_count": 7,
     "metadata": {},
     "output_type": "execute_result"
    }
   ],
   "source": [
    "df.corr(method='spearman')"
   ]
  },
  {
   "cell_type": "code",
   "execution_count": 13,
   "metadata": {},
   "outputs": [
    {
     "ename": "KeyError",
     "evalue": "'[3.96774197 3.81818175 4.72222233 0.         3.98252416 1.\\n 4.24581623 4.10526323 4.40740728 3.6324389  5.         4.47826099\\n 3.48022532 0.         4.75       0.         5.         5.\\n 0.         3.5        4.72814655 3.94654417 3.37000513 3.9259758\\n 3.99847603 3.93665147 4.05598116 4.02857161 4.6811595  4.28994846\\n 4.10454559 3.47457623 5.         4.78947353 4.16394997 3.91843891\\n 4.2661953  4.11922359 3.55384612 3.98436975 3.66861081 5.\\n 4.14141417 3.4482758  3.64705873 3.31034493 3.92125988 3.51948047\\n 4.         3.83999991 3.50310564 4.46234703 4.03947353 4.07786989\\n 0.         5.         0.         3.86731839 3.74668598 4.35017061\\n 4.30000019 3.97076035 4.19444466 4.0625     4.04029465 4.14016438\\n 4.26217222 4.41663313 4.         5.         4.33445549 4.45844221\\n 4.34941578 4.44653797 4.13953161 4.08771944 3.86243582 0.\\n 5.         4.40116405 4.34149075 4.6511097  4.29395962 4.31186962\\n 4.20411205 4.40907907 4.32269382 4.71656847 4.48252487 4.43758774\\n 4.07534122 4.2807436  3.96958256 4.12611675 4.28571415 3.69390249\\n 4.43457937 3.75       4.09756088 4.02439022] not in index'",
     "output_type": "error",
     "traceback": [
      "\u001b[1;31m---------------------------------------------------------------------------\u001b[0m",
      "\u001b[1;31mKeyError\u001b[0m                                  Traceback (most recent call last)",
      "\u001b[1;32m<ipython-input-13-c0a0176a9f5b>\u001b[0m in \u001b[0;36m<module>\u001b[1;34m()\u001b[0m\n\u001b[0;32m      1\u001b[0m \u001b[0mdf\u001b[0m\u001b[1;33m=\u001b[0m\u001b[0mdf\u001b[0m\u001b[1;33m.\u001b[0m\u001b[0mhead\u001b[0m\u001b[1;33m(\u001b[0m\u001b[1;36m100\u001b[0m\u001b[1;33m)\u001b[0m\u001b[1;33m\u001b[0m\u001b[0m\n\u001b[1;32m----> 2\u001b[1;33m \u001b[0mdf\u001b[0m\u001b[1;33m.\u001b[0m\u001b[0mplot\u001b[0m\u001b[1;33m(\u001b[0m\u001b[0mdf\u001b[0m\u001b[1;33m[\u001b[0m\u001b[1;34m'aggregateRating'\u001b[0m\u001b[1;33m]\u001b[0m \u001b[1;33m,\u001b[0m\u001b[0mdf\u001b[0m\u001b[1;33m[\u001b[0m\u001b[1;34m'ratingCount'\u001b[0m\u001b[1;33m]\u001b[0m\u001b[1;33m,\u001b[0m \u001b[0mstyle\u001b[0m\u001b[1;33m=\u001b[0m\u001b[1;34m'o'\u001b[0m\u001b[1;33m)\u001b[0m\u001b[1;33m\u001b[0m\u001b[0m\n\u001b[0m",
      "\u001b[1;32mC:\\ProgramData\\Anaconda3\\lib\\site-packages\\pandas\\plotting\\_core.py\u001b[0m in \u001b[0;36m__call__\u001b[1;34m(self, x, y, kind, ax, subplots, sharex, sharey, layout, figsize, use_index, title, grid, legend, style, logx, logy, loglog, xticks, yticks, xlim, ylim, rot, fontsize, colormap, table, yerr, xerr, secondary_y, sort_columns, **kwds)\u001b[0m\n\u001b[0;32m   2939\u001b[0m                           \u001b[0mfontsize\u001b[0m\u001b[1;33m=\u001b[0m\u001b[0mfontsize\u001b[0m\u001b[1;33m,\u001b[0m \u001b[0mcolormap\u001b[0m\u001b[1;33m=\u001b[0m\u001b[0mcolormap\u001b[0m\u001b[1;33m,\u001b[0m \u001b[0mtable\u001b[0m\u001b[1;33m=\u001b[0m\u001b[0mtable\u001b[0m\u001b[1;33m,\u001b[0m\u001b[1;33m\u001b[0m\u001b[0m\n\u001b[0;32m   2940\u001b[0m                           \u001b[0myerr\u001b[0m\u001b[1;33m=\u001b[0m\u001b[0myerr\u001b[0m\u001b[1;33m,\u001b[0m \u001b[0mxerr\u001b[0m\u001b[1;33m=\u001b[0m\u001b[0mxerr\u001b[0m\u001b[1;33m,\u001b[0m \u001b[0msecondary_y\u001b[0m\u001b[1;33m=\u001b[0m\u001b[0msecondary_y\u001b[0m\u001b[1;33m,\u001b[0m\u001b[1;33m\u001b[0m\u001b[0m\n\u001b[1;32m-> 2941\u001b[1;33m                           sort_columns=sort_columns, **kwds)\n\u001b[0m\u001b[0;32m   2942\u001b[0m     \u001b[0m__call__\u001b[0m\u001b[1;33m.\u001b[0m\u001b[0m__doc__\u001b[0m \u001b[1;33m=\u001b[0m \u001b[0mplot_frame\u001b[0m\u001b[1;33m.\u001b[0m\u001b[0m__doc__\u001b[0m\u001b[1;33m\u001b[0m\u001b[0m\n\u001b[0;32m   2943\u001b[0m \u001b[1;33m\u001b[0m\u001b[0m\n",
      "\u001b[1;32mC:\\ProgramData\\Anaconda3\\lib\\site-packages\\pandas\\plotting\\_core.py\u001b[0m in \u001b[0;36mplot_frame\u001b[1;34m(data, x, y, kind, ax, subplots, sharex, sharey, layout, figsize, use_index, title, grid, legend, style, logx, logy, loglog, xticks, yticks, xlim, ylim, rot, fontsize, colormap, table, yerr, xerr, secondary_y, sort_columns, **kwds)\u001b[0m\n\u001b[0;32m   1975\u001b[0m                  \u001b[0myerr\u001b[0m\u001b[1;33m=\u001b[0m\u001b[0myerr\u001b[0m\u001b[1;33m,\u001b[0m \u001b[0mxerr\u001b[0m\u001b[1;33m=\u001b[0m\u001b[0mxerr\u001b[0m\u001b[1;33m,\u001b[0m\u001b[1;33m\u001b[0m\u001b[0m\n\u001b[0;32m   1976\u001b[0m                  \u001b[0msecondary_y\u001b[0m\u001b[1;33m=\u001b[0m\u001b[0msecondary_y\u001b[0m\u001b[1;33m,\u001b[0m \u001b[0msort_columns\u001b[0m\u001b[1;33m=\u001b[0m\u001b[0msort_columns\u001b[0m\u001b[1;33m,\u001b[0m\u001b[1;33m\u001b[0m\u001b[0m\n\u001b[1;32m-> 1977\u001b[1;33m                  **kwds)\n\u001b[0m\u001b[0;32m   1978\u001b[0m \u001b[1;33m\u001b[0m\u001b[0m\n\u001b[0;32m   1979\u001b[0m \u001b[1;33m\u001b[0m\u001b[0m\n",
      "\u001b[1;32mC:\\ProgramData\\Anaconda3\\lib\\site-packages\\pandas\\plotting\\_core.py\u001b[0m in \u001b[0;36m_plot\u001b[1;34m(data, x, y, subplots, ax, kind, **kwds)\u001b[0m\n\u001b[0;32m   1764\u001b[0m                 \u001b[1;32mif\u001b[0m \u001b[0mis_integer\u001b[0m\u001b[1;33m(\u001b[0m\u001b[0mx\u001b[0m\u001b[1;33m)\u001b[0m \u001b[1;32mand\u001b[0m \u001b[1;32mnot\u001b[0m \u001b[0mdata\u001b[0m\u001b[1;33m.\u001b[0m\u001b[0mcolumns\u001b[0m\u001b[1;33m.\u001b[0m\u001b[0mholds_integer\u001b[0m\u001b[1;33m(\u001b[0m\u001b[1;33m)\u001b[0m\u001b[1;33m:\u001b[0m\u001b[1;33m\u001b[0m\u001b[0m\n\u001b[0;32m   1765\u001b[0m                     \u001b[0mx\u001b[0m \u001b[1;33m=\u001b[0m \u001b[0mdata_cols\u001b[0m\u001b[1;33m[\u001b[0m\u001b[0mx\u001b[0m\u001b[1;33m]\u001b[0m\u001b[1;33m\u001b[0m\u001b[0m\n\u001b[1;32m-> 1766\u001b[1;33m                 \u001b[1;32melif\u001b[0m \u001b[1;32mnot\u001b[0m \u001b[0misinstance\u001b[0m\u001b[1;33m(\u001b[0m\u001b[0mdata\u001b[0m\u001b[1;33m[\u001b[0m\u001b[0mx\u001b[0m\u001b[1;33m]\u001b[0m\u001b[1;33m,\u001b[0m \u001b[0mABCSeries\u001b[0m\u001b[1;33m)\u001b[0m\u001b[1;33m:\u001b[0m\u001b[1;33m\u001b[0m\u001b[0m\n\u001b[0m\u001b[0;32m   1767\u001b[0m                     \u001b[1;32mraise\u001b[0m \u001b[0mValueError\u001b[0m\u001b[1;33m(\u001b[0m\u001b[1;34m\"x must be a label or position\"\u001b[0m\u001b[1;33m)\u001b[0m\u001b[1;33m\u001b[0m\u001b[0m\n\u001b[0;32m   1768\u001b[0m                 \u001b[0mdata\u001b[0m \u001b[1;33m=\u001b[0m \u001b[0mdata\u001b[0m\u001b[1;33m.\u001b[0m\u001b[0mset_index\u001b[0m\u001b[1;33m(\u001b[0m\u001b[0mx\u001b[0m\u001b[1;33m)\u001b[0m\u001b[1;33m\u001b[0m\u001b[0m\n",
      "\u001b[1;32mC:\\ProgramData\\Anaconda3\\lib\\site-packages\\pandas\\core\\frame.py\u001b[0m in \u001b[0;36m__getitem__\u001b[1;34m(self, key)\u001b[0m\n\u001b[0;32m   2677\u001b[0m         \u001b[1;32mif\u001b[0m \u001b[0misinstance\u001b[0m\u001b[1;33m(\u001b[0m\u001b[0mkey\u001b[0m\u001b[1;33m,\u001b[0m \u001b[1;33m(\u001b[0m\u001b[0mSeries\u001b[0m\u001b[1;33m,\u001b[0m \u001b[0mnp\u001b[0m\u001b[1;33m.\u001b[0m\u001b[0mndarray\u001b[0m\u001b[1;33m,\u001b[0m \u001b[0mIndex\u001b[0m\u001b[1;33m,\u001b[0m \u001b[0mlist\u001b[0m\u001b[1;33m)\u001b[0m\u001b[1;33m)\u001b[0m\u001b[1;33m:\u001b[0m\u001b[1;33m\u001b[0m\u001b[0m\n\u001b[0;32m   2678\u001b[0m             \u001b[1;31m# either boolean or fancy integer index\u001b[0m\u001b[1;33m\u001b[0m\u001b[1;33m\u001b[0m\u001b[0m\n\u001b[1;32m-> 2679\u001b[1;33m             \u001b[1;32mreturn\u001b[0m \u001b[0mself\u001b[0m\u001b[1;33m.\u001b[0m\u001b[0m_getitem_array\u001b[0m\u001b[1;33m(\u001b[0m\u001b[0mkey\u001b[0m\u001b[1;33m)\u001b[0m\u001b[1;33m\u001b[0m\u001b[0m\n\u001b[0m\u001b[0;32m   2680\u001b[0m         \u001b[1;32melif\u001b[0m \u001b[0misinstance\u001b[0m\u001b[1;33m(\u001b[0m\u001b[0mkey\u001b[0m\u001b[1;33m,\u001b[0m \u001b[0mDataFrame\u001b[0m\u001b[1;33m)\u001b[0m\u001b[1;33m:\u001b[0m\u001b[1;33m\u001b[0m\u001b[0m\n\u001b[0;32m   2681\u001b[0m             \u001b[1;32mreturn\u001b[0m \u001b[0mself\u001b[0m\u001b[1;33m.\u001b[0m\u001b[0m_getitem_frame\u001b[0m\u001b[1;33m(\u001b[0m\u001b[0mkey\u001b[0m\u001b[1;33m)\u001b[0m\u001b[1;33m\u001b[0m\u001b[0m\n",
      "\u001b[1;32mC:\\ProgramData\\Anaconda3\\lib\\site-packages\\pandas\\core\\frame.py\u001b[0m in \u001b[0;36m_getitem_array\u001b[1;34m(self, key)\u001b[0m\n\u001b[0;32m   2721\u001b[0m             \u001b[1;32mreturn\u001b[0m \u001b[0mself\u001b[0m\u001b[1;33m.\u001b[0m\u001b[0m_take\u001b[0m\u001b[1;33m(\u001b[0m\u001b[0mindexer\u001b[0m\u001b[1;33m,\u001b[0m \u001b[0maxis\u001b[0m\u001b[1;33m=\u001b[0m\u001b[1;36m0\u001b[0m\u001b[1;33m)\u001b[0m\u001b[1;33m\u001b[0m\u001b[0m\n\u001b[0;32m   2722\u001b[0m         \u001b[1;32melse\u001b[0m\u001b[1;33m:\u001b[0m\u001b[1;33m\u001b[0m\u001b[0m\n\u001b[1;32m-> 2723\u001b[1;33m             \u001b[0mindexer\u001b[0m \u001b[1;33m=\u001b[0m \u001b[0mself\u001b[0m\u001b[1;33m.\u001b[0m\u001b[0mloc\u001b[0m\u001b[1;33m.\u001b[0m\u001b[0m_convert_to_indexer\u001b[0m\u001b[1;33m(\u001b[0m\u001b[0mkey\u001b[0m\u001b[1;33m,\u001b[0m \u001b[0maxis\u001b[0m\u001b[1;33m=\u001b[0m\u001b[1;36m1\u001b[0m\u001b[1;33m)\u001b[0m\u001b[1;33m\u001b[0m\u001b[0m\n\u001b[0m\u001b[0;32m   2724\u001b[0m             \u001b[1;32mreturn\u001b[0m \u001b[0mself\u001b[0m\u001b[1;33m.\u001b[0m\u001b[0m_take\u001b[0m\u001b[1;33m(\u001b[0m\u001b[0mindexer\u001b[0m\u001b[1;33m,\u001b[0m \u001b[0maxis\u001b[0m\u001b[1;33m=\u001b[0m\u001b[1;36m1\u001b[0m\u001b[1;33m)\u001b[0m\u001b[1;33m\u001b[0m\u001b[0m\n\u001b[0;32m   2725\u001b[0m \u001b[1;33m\u001b[0m\u001b[0m\n",
      "\u001b[1;32mC:\\ProgramData\\Anaconda3\\lib\\site-packages\\pandas\\core\\indexing.py\u001b[0m in \u001b[0;36m_convert_to_indexer\u001b[1;34m(self, obj, axis, is_setter)\u001b[0m\n\u001b[0;32m   1325\u001b[0m                 \u001b[1;32mif\u001b[0m \u001b[0mmask\u001b[0m\u001b[1;33m.\u001b[0m\u001b[0many\u001b[0m\u001b[1;33m(\u001b[0m\u001b[1;33m)\u001b[0m\u001b[1;33m:\u001b[0m\u001b[1;33m\u001b[0m\u001b[0m\n\u001b[0;32m   1326\u001b[0m                     raise KeyError('{mask} not in index'\n\u001b[1;32m-> 1327\u001b[1;33m                                    .format(mask=objarr[mask]))\n\u001b[0m\u001b[0;32m   1328\u001b[0m \u001b[1;33m\u001b[0m\u001b[0m\n\u001b[0;32m   1329\u001b[0m                 \u001b[1;32mreturn\u001b[0m \u001b[0mcom\u001b[0m\u001b[1;33m.\u001b[0m\u001b[0m_values_from_object\u001b[0m\u001b[1;33m(\u001b[0m\u001b[0mindexer\u001b[0m\u001b[1;33m)\u001b[0m\u001b[1;33m\u001b[0m\u001b[0m\n",
      "\u001b[1;31mKeyError\u001b[0m: '[3.96774197 3.81818175 4.72222233 0.         3.98252416 1.\\n 4.24581623 4.10526323 4.40740728 3.6324389  5.         4.47826099\\n 3.48022532 0.         4.75       0.         5.         5.\\n 0.         3.5        4.72814655 3.94654417 3.37000513 3.9259758\\n 3.99847603 3.93665147 4.05598116 4.02857161 4.6811595  4.28994846\\n 4.10454559 3.47457623 5.         4.78947353 4.16394997 3.91843891\\n 4.2661953  4.11922359 3.55384612 3.98436975 3.66861081 5.\\n 4.14141417 3.4482758  3.64705873 3.31034493 3.92125988 3.51948047\\n 4.         3.83999991 3.50310564 4.46234703 4.03947353 4.07786989\\n 0.         5.         0.         3.86731839 3.74668598 4.35017061\\n 4.30000019 3.97076035 4.19444466 4.0625     4.04029465 4.14016438\\n 4.26217222 4.41663313 4.         5.         4.33445549 4.45844221\\n 4.34941578 4.44653797 4.13953161 4.08771944 3.86243582 0.\\n 5.         4.40116405 4.34149075 4.6511097  4.29395962 4.31186962\\n 4.20411205 4.40907907 4.32269382 4.71656847 4.48252487 4.43758774\\n 4.07534122 4.2807436  3.96958256 4.12611675 4.28571415 3.69390249\\n 4.43457937 3.75       4.09756088 4.02439022] not in index'"
     ]
    }
   ],
   "source": [
    "df=df.head(100)\n",
    "df.plot(df['aggregateRating'] ,df['ratingCount'], style='o')"
   ]
  },
  {
   "cell_type": "code",
   "execution_count": 14,
   "metadata": {},
   "outputs": [],
   "source": [
    "score=[]\n",
    "for i in df['aggregateRating']:\n",
    "    score.append(i)"
   ]
  },
  {
   "cell_type": "code",
   "execution_count": 21,
   "metadata": {},
   "outputs": [],
   "source": [
    "count=[]"
   ]
  },
  {
   "cell_type": "code",
   "execution_count": 22,
   "metadata": {},
   "outputs": [],
   "source": [
    "for i in df['ratingCount']:\n",
    "   count.append(i)"
   ]
  },
  {
   "cell_type": "code",
   "execution_count": 23,
   "metadata": {},
   "outputs": [
    {
     "name": "stdout",
     "output_type": "stream",
     "text": [
      "[31, 11, 18, 0, 1545, 2, 72359, 19, 54, 4957, 5, 23, 20053, 0, 4, 0, 2, 1, 0, 32, 3332, 36011, 31633, 13374, 4593, 221, 3001, 70, 69, 776, 220, 59, 2, 19, 41775, 8558, 849, 119959, 65, 44593, 15088, 1, 198, 58, 34, 29, 127, 77, 1, 50, 805, 13983, 76, 22351, 0, 6, 0, 2148, 4149, 1465, 10, 513, 144, 16, 8686, 7799, 267, 44568, 6, 8, 546686, 10273715, 707183, 4246, 14090, 57, 2726, 0, 4, 28866, 42619, 95798, 535257, 957377, 9441, 22932, 48468, 15971, 7811, 5688, 20427, 327687, 8745, 4813, 7, 820, 214, 344, 82, 123]\n"
     ]
    }
   ],
   "source": [
    "print(count)"
   ]
  },
  {
   "cell_type": "code",
   "execution_count": 24,
   "metadata": {},
   "outputs": [],
   "source": [
    "score=[]\n",
    "for i in df['aggregateRating']:\n",
    "    score.append(i)"
   ]
  },
  {
   "cell_type": "code",
   "execution_count": 25,
   "metadata": {},
   "outputs": [
    {
     "name": "stdout",
     "output_type": "stream",
     "text": [
      "[3.96774196624756, 3.81818175315857, 4.72222232818604, 0.0, 3.9825241565704306, 1.0, 4.24581623077393, 4.10526323318481, 4.40740728378296, 3.6324388980865496, 5.0, 4.4782609939575195, 3.4802253246307404, 0.0, 4.75, 0.0, 5.0, 5.0, 0.0, 3.5, 4.72814655303955, 3.94654417037964, 3.37000513076782, 3.92597579956055, 3.9984760284423797, 3.9366514682769798, 4.0559811592102095, 4.02857160568237, 4.68115949630737, 4.2899484634399405, 4.10454559326172, 3.4745762348175, 5.0, 4.78947353363037, 4.16394996643066, 3.91843891143799, 4.26619529724121, 4.11922359466553, 3.55384612083435, 3.9843697547912598, 3.66861081123352, 5.0, 4.141414165496831, 3.4482758045196498, 3.6470587253570597, 3.3103449344634996, 3.9212598800659197, 3.51948046684265, 4.0, 3.83999991416931, 3.50310564041138, 4.46234703063965, 4.03947353363037, 4.07786989212036, 0.0, 5.0, 0.0, 3.8673183917999303, 3.74668598175049, 4.3501706123352095, 4.30000019073486, 3.9707603454589804, 4.194444656372069, 4.0625, 4.0402946472167995, 4.14016437530518, 4.26217222213745, 4.41663312911987, 4.0, 5.0, 4.33445549011231, 4.45844221115112, 4.34941577911377, 4.44653797149658, 4.13953161239624, 4.0877194404602095, 3.86243581771851, 0.0, 5.0, 4.40116405487061, 4.34149074554443, 4.65110969543457, 4.2939596176147505, 4.31186962127686, 4.20411205291748, 4.40907907485962, 4.32269382476807, 4.71656847000122, 4.48252487182617, 4.43758773803711, 4.07534122467041, 4.28074359893799, 3.9695825576782204, 4.12611675262451, 4.2857141494751, 3.69390249252319, 4.43457937240601, 3.75, 4.09756088256836, 4.02439022064209]\n"
     ]
    }
   ],
   "source": [
    "print(score)"
   ]
  },
  {
   "cell_type": "code",
   "execution_count": 27,
   "metadata": {},
   "outputs": [
    {
     "data": {
      "text/plain": [
       "[<matplotlib.lines.Line2D at 0x178c3c6b4a8>]"
      ]
     },
     "execution_count": 27,
     "metadata": {},
     "output_type": "execute_result"
    },
    {
     "data": {
      "image/png": "[encoded data removed]",
      "text/plain": [
       "<Figure size 432x288 with 1 Axes>"
      ]
     },
     "metadata": {},
     "output_type": "display_data"
    }
   ],
   "source": [
    "plt.plot(score, count)"
   ]
  },
  {
   "cell_type": "code",
   "execution_count": null,
   "metadata": {},
   "outputs": [],
   "source": []
  }
 ],
 "metadata": {
  "kernelspec": {
   "display_name": "Python 3",
   "language": "python",
   "name": "python3"
  },
  "language_info": {
   "codemirror_mode": {
    "name": "ipython",
    "version": 3
   },
   "file_extension": ".py",
   "mimetype": "text/x-python",
   "name": "python",
   "nbconvert_exporter": "python",
   "pygments_lexer": "ipython3",
   "version": "3.6.5"
  }
 },
 "nbformat": 4,
 "nbformat_minor": 2
}
